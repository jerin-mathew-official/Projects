{
 "cells": [
  {
   "cell_type": "markdown",
   "metadata": {},
   "source": [
    "### Neural Network and Deep Learning\n",
    "### Lab 4\n",
    "-----\n",
    "### Jerin Mathew\n",
    "### 2139455\n",
    "-----"
   ]
  },
  {
   "cell_type": "code",
   "execution_count": 17,
   "metadata": {
    "_cell_guid": "b1076dfc-b9ad-4769-8c92-a6c4dae69d19",
    "_uuid": "8f2839f25d086af736a60e9eeb907d3b93b6e0e5",
    "execution": {
     "iopub.execute_input": "2020-11-24T15:33:44.617819Z",
     "iopub.status.busy": "2020-11-24T15:33:44.616734Z",
     "iopub.status.idle": "2020-11-24T15:33:48.545917Z",
     "shell.execute_reply": "2020-11-24T15:33:48.545192Z"
    },
    "papermill": {
     "duration": 3.947576,
     "end_time": "2020-11-24T15:33:48.546057",
     "exception": false,
     "start_time": "2020-11-24T15:33:44.598481",
     "status": "completed"
    },
    "tags": []
   },
   "outputs": [],
   "source": [
    "import numpy as np\n",
    "import pandas as pd\n",
    "from matplotlib import pyplot as plt\n",
    "\n",
    "data = pd.read_csv(\"fashion-mnist_train.csv\")"
   ]
  },
  {
   "cell_type": "markdown",
   "metadata": {},
   "source": [
    "##### About the Data Set:\n",
    "\n",
    "Fashion-MNIST is a dataset of Zalando's article images—consisting of a training set of 60,000 examples and a test set of 10,000 examples. Each example is a 28x28 grayscale image, associated with a label from 10 classes. Zalando intends Fashion-MNIST to serve as a direct drop-in replacement for the original MNIST dataset for benchmarking machine learning algorithms. It shares the same image size and structure of training and testing splits.\n",
    "\n",
    "The original MNIST dataset contains a lot of handwritten digits. Members of the AI/ML/Data Science community love this dataset and use it as a benchmark to validate their algorithms. In fact, MNIST is often the first dataset researchers try. \"If it doesn't work on MNIST, it won't work at all\", they said. \"Well, if it does work on MNIST, it may still fail on others.\"\n",
    "\n",
    "Zalando seeks to replace the original MNIST dataset\n",
    "\n",
    "\n",
    "Each image is 28 pixels in height and 28 pixels in width, for a total of 784 pixels in total. Each pixel has a single pixel-value associated with it, indicating the lightness or darkness of that pixel, with higher numbers meaning darker. This pixel-value is an integer between 0 and 255. The training and test data sets have 785 columns. The first column consists of the class labels (see above), and represents the article of clothing. The rest of the columns contain the pixel-values of the associated image.\n",
    "\n",
    "To locate a pixel on the image, suppose that we have decomposed x as x = i * 28 + j, where i and j are integers between 0 and 27. The pixel is located on row i and column j of a 28 x 28 matrix.\n",
    "For example, pixel31 indicates the pixel that is in the fourth column from the left, and the second row from the top, as in the ascii-diagram below.\n",
    "\n",
    "\n",
    "Labels\n",
    "\n",
    "Each training and test example is assigned to one of the following labels:\n",
    "\n",
    "0 T-shirt/top\\\n",
    "1 Trouser\\\n",
    "2 Pullover\\\n",
    "3 Dress\\\n",
    "4 Coat\\\n",
    "5 Sandal\\\n",
    "6 Shirt\\\n",
    "7 Sneaker\\\n",
    "8 Bag\\\n",
    "9 Ankle boot\n",
    "\n"
   ]
  },
  {
   "cell_type": "code",
   "execution_count": 18,
   "metadata": {
    "scrolled": true
   },
   "outputs": [
    {
     "data": {
      "text/html": [
       "<div>\n",
       "<style scoped>\n",
       "    .dataframe tbody tr th:only-of-type {\n",
       "        vertical-align: middle;\n",
       "    }\n",
       "\n",
       "    .dataframe tbody tr th {\n",
       "        vertical-align: top;\n",
       "    }\n",
       "\n",
       "    .dataframe thead th {\n",
       "        text-align: right;\n",
       "    }\n",
       "</style>\n",
       "<table border=\"1\" class=\"dataframe\">\n",
       "  <thead>\n",
       "    <tr style=\"text-align: right;\">\n",
       "      <th></th>\n",
       "      <th>label</th>\n",
       "      <th>pixel1</th>\n",
       "      <th>pixel2</th>\n",
       "      <th>pixel3</th>\n",
       "      <th>pixel4</th>\n",
       "      <th>pixel5</th>\n",
       "      <th>pixel6</th>\n",
       "      <th>pixel7</th>\n",
       "      <th>pixel8</th>\n",
       "      <th>pixel9</th>\n",
       "      <th>...</th>\n",
       "      <th>pixel775</th>\n",
       "      <th>pixel776</th>\n",
       "      <th>pixel777</th>\n",
       "      <th>pixel778</th>\n",
       "      <th>pixel779</th>\n",
       "      <th>pixel780</th>\n",
       "      <th>pixel781</th>\n",
       "      <th>pixel782</th>\n",
       "      <th>pixel783</th>\n",
       "      <th>pixel784</th>\n",
       "    </tr>\n",
       "  </thead>\n",
       "  <tbody>\n",
       "    <tr>\n",
       "      <th>0</th>\n",
       "      <td>2</td>\n",
       "      <td>0</td>\n",
       "      <td>0</td>\n",
       "      <td>0</td>\n",
       "      <td>0</td>\n",
       "      <td>0</td>\n",
       "      <td>0</td>\n",
       "      <td>0</td>\n",
       "      <td>0</td>\n",
       "      <td>0</td>\n",
       "      <td>...</td>\n",
       "      <td>0</td>\n",
       "      <td>0</td>\n",
       "      <td>0</td>\n",
       "      <td>0</td>\n",
       "      <td>0</td>\n",
       "      <td>0</td>\n",
       "      <td>0</td>\n",
       "      <td>0</td>\n",
       "      <td>0</td>\n",
       "      <td>0</td>\n",
       "    </tr>\n",
       "    <tr>\n",
       "      <th>1</th>\n",
       "      <td>9</td>\n",
       "      <td>0</td>\n",
       "      <td>0</td>\n",
       "      <td>0</td>\n",
       "      <td>0</td>\n",
       "      <td>0</td>\n",
       "      <td>0</td>\n",
       "      <td>0</td>\n",
       "      <td>0</td>\n",
       "      <td>0</td>\n",
       "      <td>...</td>\n",
       "      <td>0</td>\n",
       "      <td>0</td>\n",
       "      <td>0</td>\n",
       "      <td>0</td>\n",
       "      <td>0</td>\n",
       "      <td>0</td>\n",
       "      <td>0</td>\n",
       "      <td>0</td>\n",
       "      <td>0</td>\n",
       "      <td>0</td>\n",
       "    </tr>\n",
       "    <tr>\n",
       "      <th>2</th>\n",
       "      <td>6</td>\n",
       "      <td>0</td>\n",
       "      <td>0</td>\n",
       "      <td>0</td>\n",
       "      <td>0</td>\n",
       "      <td>0</td>\n",
       "      <td>0</td>\n",
       "      <td>0</td>\n",
       "      <td>5</td>\n",
       "      <td>0</td>\n",
       "      <td>...</td>\n",
       "      <td>0</td>\n",
       "      <td>0</td>\n",
       "      <td>0</td>\n",
       "      <td>30</td>\n",
       "      <td>43</td>\n",
       "      <td>0</td>\n",
       "      <td>0</td>\n",
       "      <td>0</td>\n",
       "      <td>0</td>\n",
       "      <td>0</td>\n",
       "    </tr>\n",
       "    <tr>\n",
       "      <th>3</th>\n",
       "      <td>0</td>\n",
       "      <td>0</td>\n",
       "      <td>0</td>\n",
       "      <td>0</td>\n",
       "      <td>1</td>\n",
       "      <td>2</td>\n",
       "      <td>0</td>\n",
       "      <td>0</td>\n",
       "      <td>0</td>\n",
       "      <td>0</td>\n",
       "      <td>...</td>\n",
       "      <td>3</td>\n",
       "      <td>0</td>\n",
       "      <td>0</td>\n",
       "      <td>0</td>\n",
       "      <td>0</td>\n",
       "      <td>1</td>\n",
       "      <td>0</td>\n",
       "      <td>0</td>\n",
       "      <td>0</td>\n",
       "      <td>0</td>\n",
       "    </tr>\n",
       "    <tr>\n",
       "      <th>4</th>\n",
       "      <td>3</td>\n",
       "      <td>0</td>\n",
       "      <td>0</td>\n",
       "      <td>0</td>\n",
       "      <td>0</td>\n",
       "      <td>0</td>\n",
       "      <td>0</td>\n",
       "      <td>0</td>\n",
       "      <td>0</td>\n",
       "      <td>0</td>\n",
       "      <td>...</td>\n",
       "      <td>0</td>\n",
       "      <td>0</td>\n",
       "      <td>0</td>\n",
       "      <td>0</td>\n",
       "      <td>0</td>\n",
       "      <td>0</td>\n",
       "      <td>0</td>\n",
       "      <td>0</td>\n",
       "      <td>0</td>\n",
       "      <td>0</td>\n",
       "    </tr>\n",
       "  </tbody>\n",
       "</table>\n",
       "<p>5 rows × 785 columns</p>\n",
       "</div>"
      ],
      "text/plain": [
       "   label  pixel1  pixel2  pixel3  pixel4  pixel5  pixel6  pixel7  pixel8  \\\n",
       "0      2       0       0       0       0       0       0       0       0   \n",
       "1      9       0       0       0       0       0       0       0       0   \n",
       "2      6       0       0       0       0       0       0       0       5   \n",
       "3      0       0       0       0       1       2       0       0       0   \n",
       "4      3       0       0       0       0       0       0       0       0   \n",
       "\n",
       "   pixel9  ...  pixel775  pixel776  pixel777  pixel778  pixel779  pixel780  \\\n",
       "0       0  ...         0         0         0         0         0         0   \n",
       "1       0  ...         0         0         0         0         0         0   \n",
       "2       0  ...         0         0         0        30        43         0   \n",
       "3       0  ...         3         0         0         0         0         1   \n",
       "4       0  ...         0         0         0         0         0         0   \n",
       "\n",
       "   pixel781  pixel782  pixel783  pixel784  \n",
       "0         0         0         0         0  \n",
       "1         0         0         0         0  \n",
       "2         0         0         0         0  \n",
       "3         0         0         0         0  \n",
       "4         0         0         0         0  \n",
       "\n",
       "[5 rows x 785 columns]"
      ]
     },
     "execution_count": 18,
     "metadata": {},
     "output_type": "execute_result"
    }
   ],
   "source": [
    "data.head(5)"
   ]
  },
  {
   "cell_type": "markdown",
   "metadata": {},
   "source": [
    "##### Spliting of data"
   ]
  },
  {
   "cell_type": "code",
   "execution_count": 19,
   "metadata": {
    "execution": {
     "iopub.execute_input": "2020-11-24T15:33:48.577955Z",
     "iopub.status.busy": "2020-11-24T15:33:48.576778Z",
     "iopub.status.idle": "2020-11-24T15:33:49.353469Z",
     "shell.execute_reply": "2020-11-24T15:33:49.352724Z"
    },
    "papermill": {
     "duration": 0.795759,
     "end_time": "2020-11-24T15:33:49.353603",
     "exception": false,
     "start_time": "2020-11-24T15:33:48.557844",
     "status": "completed"
    },
    "tags": []
   },
   "outputs": [],
   "source": [
    "data = np.array(data)\n",
    "m, n = data.shape\n",
    "np.random.shuffle(data) # shuffle before splitting \n",
    "#Development data\n",
    "data_dev = data[0:1000].T\n",
    "Y_dev = data_dev[0]\n",
    "X_dev = data_dev[1:n]\n",
    "X_dev = X_dev / 255.\n",
    "# Train data\n",
    "data_train = data[1000:m].T\n",
    "Y_train = data_train[0]\n",
    "X_train = data_train[1:n]\n",
    "X_train = X_train / 255.\n",
    "_,m_train = X_train.shape"
   ]
  },
  {
   "cell_type": "code",
   "execution_count": 20,
   "metadata": {
    "execution": {
     "iopub.execute_input": "2020-11-24T15:33:49.385574Z",
     "iopub.status.busy": "2020-11-24T15:33:49.384483Z",
     "iopub.status.idle": "2020-11-24T15:33:49.388342Z",
     "shell.execute_reply": "2020-11-24T15:33:49.388923Z"
    },
    "papermill": {
     "duration": 0.023743,
     "end_time": "2020-11-24T15:33:49.389054",
     "exception": false,
     "start_time": "2020-11-24T15:33:49.365311",
     "status": "completed"
    },
    "tags": []
   },
   "outputs": [
    {
     "data": {
      "text/plain": [
       "array([8, 0, 0, ..., 5, 5, 5])"
      ]
     },
     "execution_count": 20,
     "metadata": {},
     "output_type": "execute_result"
    }
   ],
   "source": [
    "Y_train"
   ]
  },
  {
   "cell_type": "markdown",
   "metadata": {
    "papermill": {
     "duration": 0.011724,
     "end_time": "2020-11-24T15:33:49.413261",
     "exception": false,
     "start_time": "2020-11-24T15:33:49.401537",
     "status": "completed"
    },
    "tags": []
   },
   "source": [
    "Our NN will have a simple two-layer architecture. Input layer $a^{[0]}$ will have 784 units corresponding to the 784 pixels in each 28x28 input image. A hidden layer $a^{[1]}$ will have 10 units with ReLU activation, and finally our output layer $a^{[2]}$ will have 10 units corresponding to the ten digit classes with softmax activation.\n",
    "\n",
    "**Forward propagation**\n",
    "\n",
    "$$Z^{[1]} = W^{[1]} X + b^{[1]}$$\n",
    "$$A^{[1]} = g_{\\text{ReLU}}(Z^{[1]}))$$\n",
    "$$Z^{[2]} = W^{[2]} A^{[1]} + b^{[2]}$$\n",
    "$$A^{[2]} = g_{\\text{softmax}}(Z^{[2]})$$\n",
    "\n",
    "**Backward propagation**\n",
    "\n",
    "$$dZ^{[2]} = A^{[2]} - Y$$\n",
    "$$dW^{[2]} = \\frac{1}{m} dZ^{[2]} A^{[1]T}$$\n",
    "$$dB^{[2]} = \\frac{1}{m} \\Sigma {dZ^{[2]}}$$\n",
    "$$dZ^{[1]} = W^{[2]T} dZ^{[2]} .* g^{[1]\\prime} (z^{[1]})$$\n",
    "$$dW^{[1]} = \\frac{1}{m} dZ^{[1]} A^{[0]T}$$\n",
    "$$dB^{[1]} = \\frac{1}{m} \\Sigma {dZ^{[1]}}$$\n",
    "\n",
    "**Parameter updates**\n",
    "\n",
    "$$W^{[2]} := W^{[2]} - \\alpha dW^{[2]}$$\n",
    "$$b^{[2]} := b^{[2]} - \\alpha db^{[2]}$$\n",
    "$$W^{[1]} := W^{[1]} - \\alpha dW^{[1]}$$\n",
    "$$b^{[1]} := b^{[1]} - \\alpha db^{[1]}$$\n"
   ]
  },
  {
   "cell_type": "markdown",
   "metadata": {},
   "source": [
    "#####  Defining all required functions for MPN:\n",
    "\n",
    "#### Here we have 784 columns and 2 hidden layers with 10 neurons in each hidden layer."
   ]
  },
  {
   "cell_type": "code",
   "execution_count": 76,
   "metadata": {
    "execution": {
     "iopub.execute_input": "2020-11-24T15:33:49.458553Z",
     "iopub.status.busy": "2020-11-24T15:33:49.457534Z",
     "iopub.status.idle": "2020-11-24T15:33:49.460243Z",
     "shell.execute_reply": "2020-11-24T15:33:49.460754Z"
    },
    "papermill": {
     "duration": 0.035762,
     "end_time": "2020-11-24T15:33:49.460906",
     "exception": false,
     "start_time": "2020-11-24T15:33:49.425144",
     "status": "completed"
    },
    "tags": []
   },
   "outputs": [],
   "source": [
    "def init_params():\n",
    "    W1 = np.random.rand(10, 784) - 0.5\n",
    "    b1 = np.random.rand(10, 1) - 0.5\n",
    "    W2 = np.random.rand(10, 10) - 0.5\n",
    "    b2 = np.random.rand(10, 1) - 0.5\n",
    "    return W1, b1, W2, b2\n",
    "\n",
    "def ReLU(Z):\n",
    "    return np.maximum(Z, 0)\n",
    "\n",
    "def softmax(Z):\n",
    "    A = np.exp(Z) / sum(np.exp(Z))\n",
    "    return A\n",
    "    \n",
    "def forward_prop(W1, b1, W2, b2, X):\n",
    "    Z1 = W1.dot(X) + b1\n",
    "    A1 = ReLU(Z1)\n",
    "    Z2 = W2.dot(A1) + b2\n",
    "    A2 = softmax(Z2)\n",
    "    return Z1, A1, Z2, A2\n",
    "\n",
    "def ReLU_deriv(Z):\n",
    "    return Z > 0\n",
    "\n",
    "def one_hot(Y):\n",
    "    one_hot_Y = np.zeros((Y.size, Y.max() + 1))\n",
    "    one_hot_Y[np.arange(Y.size), Y] = 1\n",
    "    one_hot_Y = one_hot_Y.T\n",
    "    return one_hot_Y\n",
    "\n",
    "\n",
    "\n",
    "def backward_prop(Z1, A1, Z2, A2, W1, W2, X, Y):\n",
    "    one_hot_Y = one_hot(Y)\n",
    "    dZ2 = A2 - one_hot_Y\n",
    "    dW2 = 1 / m * dZ2.dot(A1.T)\n",
    "    db2 = 1 / m * np.sum(dZ2)\n",
    "    dZ1 = W2.T.dot(dZ2) * ReLU_deriv(Z1)\n",
    "    dW1 = 1 / m * dZ1.dot(X.T)\n",
    "    db1 = 1 / m * np.sum(dZ1)\n",
    "    return dW1, db1, dW2, db2\n",
    "\n",
    "def update_params(W1, b1, W2, b2, dW1, db1, dW2, db2, alpha):\n",
    "    W1 = W1 - alpha * dW1\n",
    "    b1 = b1 - alpha * db1    \n",
    "    W2 = W2 - alpha * dW2  \n",
    "    b2 = b2 - alpha * db2    \n",
    "    return W1, b1, W2, b2"
   ]
  },
  {
   "cell_type": "markdown",
   "metadata": {},
   "source": [
    "##### Defining the Algorithm"
   ]
  },
  {
   "cell_type": "code",
   "execution_count": 55,
   "metadata": {
    "execution": {
     "iopub.execute_input": "2020-11-24T15:33:49.496820Z",
     "iopub.status.busy": "2020-11-24T15:33:49.493109Z",
     "iopub.status.idle": "2020-11-24T15:33:49.499268Z",
     "shell.execute_reply": "2020-11-24T15:33:49.499782Z"
    },
    "papermill": {
     "duration": 0.026744,
     "end_time": "2020-11-24T15:33:49.499906",
     "exception": false,
     "start_time": "2020-11-24T15:33:49.473162",
     "status": "completed"
    },
    "tags": []
   },
   "outputs": [],
   "source": [
    "def get_predictions(A2):\n",
    "    return np.argmax(A2, 0)\n",
    "\n",
    "def get_accuracy(predictions, Y):\n",
    "    print(predictions, Y)\n",
    "    return np.sum(predictions == Y) / Y.size\n",
    "\n",
    "\n",
    "def gradient_descent(X, Y, alpha, iterations):\n",
    "    #global a\n",
    "    a=[]\n",
    "    W1, b1, W2, b2 = init_params()\n",
    "    for i in range(iterations):\n",
    "        Z1, A1, Z2, A2 = forward_prop(W1, b1, W2, b2, X)\n",
    "        dW1, db1, dW2, db2 = backward_prop(Z1, A1, Z2, A2, W1, W2, X, Y)\n",
    "        W1, b1, W2, b2 = update_params(W1, b1, W2, b2, dW1, db1, dW2, db2, alpha)\n",
    "        if i % 10 == 0:\n",
    "            print(\"Iteration: \", i)\n",
    "            predictions = get_predictions(A2)\n",
    "            A=get_accuracy(predictions, Y)\n",
    "            print(get_accuracy(predictions, Y))\n",
    "            a.append(A)\n",
    "    return W1, b1, W2, b2,a"
   ]
  },
  {
   "cell_type": "markdown",
   "metadata": {},
   "source": [
    "##### Output of the Model"
   ]
  },
  {
   "cell_type": "code",
   "execution_count": 56,
   "metadata": {
    "execution": {
     "iopub.execute_input": "2020-11-24T15:33:49.529813Z",
     "iopub.status.busy": "2020-11-24T15:33:49.529067Z",
     "iopub.status.idle": "2020-11-24T15:34:33.915250Z",
     "shell.execute_reply": "2020-11-24T15:34:33.914598Z"
    },
    "papermill": {
     "duration": 44.403186,
     "end_time": "2020-11-24T15:34:33.915380",
     "exception": false,
     "start_time": "2020-11-24T15:33:49.512194",
     "status": "completed"
    },
    "tags": []
   },
   "outputs": [
    {
     "name": "stdout",
     "output_type": "stream",
     "text": [
      "Iteration:  0\n",
      "[7 7 7 ... 8 9 9] [8 0 0 ... 5 5 5]\n",
      "[7 7 7 ... 8 9 9] [8 0 0 ... 5 5 5]\n",
      "0.06940677966101695\n",
      "Iteration:  10\n",
      "[8 6 4 ... 8 9 9] [8 0 0 ... 5 5 5]\n",
      "[8 6 4 ... 8 9 9] [8 0 0 ... 5 5 5]\n",
      "0.2611864406779661\n",
      "Iteration:  20\n",
      "[8 3 3 ... 9 9 5] [8 0 0 ... 5 5 5]\n",
      "[8 3 3 ... 9 9 5] [8 0 0 ... 5 5 5]\n",
      "0.4067796610169492\n",
      "Iteration:  30\n",
      "[8 3 3 ... 9 9 5] [8 0 0 ... 5 5 5]\n",
      "[8 3 3 ... 9 9 5] [8 0 0 ... 5 5 5]\n",
      "0.4971186440677966\n",
      "Iteration:  40\n",
      "[8 6 3 ... 9 5 5] [8 0 0 ... 5 5 5]\n",
      "[8 6 3 ... 9 5 5] [8 0 0 ... 5 5 5]\n",
      "0.5514237288135593\n",
      "Iteration:  50\n",
      "[8 6 3 ... 9 5 5] [8 0 0 ... 5 5 5]\n",
      "[8 6 3 ... 9 5 5] [8 0 0 ... 5 5 5]\n",
      "0.5838813559322034\n",
      "Iteration:  60\n",
      "[8 6 3 ... 9 5 5] [8 0 0 ... 5 5 5]\n",
      "[8 6 3 ... 9 5 5] [8 0 0 ... 5 5 5]\n",
      "0.605864406779661\n",
      "Iteration:  70\n",
      "[8 6 3 ... 9 5 5] [8 0 0 ... 5 5 5]\n",
      "[8 6 3 ... 9 5 5] [8 0 0 ... 5 5 5]\n",
      "0.623406779661017\n",
      "Iteration:  80\n",
      "[8 6 3 ... 9 5 5] [8 0 0 ... 5 5 5]\n",
      "[8 6 3 ... 9 5 5] [8 0 0 ... 5 5 5]\n",
      "0.6365084745762711\n",
      "Iteration:  90\n",
      "[8 6 3 ... 9 5 5] [8 0 0 ... 5 5 5]\n",
      "[8 6 3 ... 9 5 5] [8 0 0 ... 5 5 5]\n",
      "0.6466610169491526\n",
      "Iteration:  100\n",
      "[8 6 3 ... 9 5 5] [8 0 0 ... 5 5 5]\n",
      "[8 6 3 ... 9 5 5] [8 0 0 ... 5 5 5]\n",
      "0.625593220338983\n",
      "Iteration:  110\n",
      "[8 6 3 ... 9 5 5] [8 0 0 ... 5 5 5]\n",
      "[8 6 3 ... 9 5 5] [8 0 0 ... 5 5 5]\n",
      "0.6324406779661017\n",
      "Iteration:  120\n",
      "[8 6 3 ... 9 5 5] [8 0 0 ... 5 5 5]\n",
      "[8 6 3 ... 9 5 5] [8 0 0 ... 5 5 5]\n",
      "0.64\n",
      "Iteration:  130\n",
      "[8 6 3 ... 9 5 5] [8 0 0 ... 5 5 5]\n",
      "[8 6 3 ... 9 5 5] [8 0 0 ... 5 5 5]\n",
      "0.6462203389830509\n",
      "Iteration:  140\n",
      "[8 6 3 ... 9 5 5] [8 0 0 ... 5 5 5]\n",
      "[8 6 3 ... 9 5 5] [8 0 0 ... 5 5 5]\n",
      "0.6513559322033898\n",
      "Iteration:  150\n",
      "[8 6 3 ... 9 5 5] [8 0 0 ... 5 5 5]\n",
      "[8 6 3 ... 9 5 5] [8 0 0 ... 5 5 5]\n",
      "0.6560169491525424\n",
      "Iteration:  160\n",
      "[8 6 3 ... 9 5 5] [8 0 0 ... 5 5 5]\n",
      "[8 6 3 ... 9 5 5] [8 0 0 ... 5 5 5]\n",
      "0.6604237288135594\n",
      "Iteration:  170\n",
      "[8 6 3 ... 9 5 5] [8 0 0 ... 5 5 5]\n",
      "[8 6 3 ... 9 5 5] [8 0 0 ... 5 5 5]\n",
      "0.664542372881356\n",
      "Iteration:  180\n",
      "[8 6 3 ... 9 5 5] [8 0 0 ... 5 5 5]\n",
      "[8 6 3 ... 9 5 5] [8 0 0 ... 5 5 5]\n",
      "0.6683728813559322\n",
      "Iteration:  190\n",
      "[8 6 3 ... 9 5 5] [8 0 0 ... 5 5 5]\n",
      "[8 6 3 ... 9 5 5] [8 0 0 ... 5 5 5]\n",
      "0.672542372881356\n",
      "Iteration:  200\n",
      "[8 6 3 ... 5 5 5] [8 0 0 ... 5 5 5]\n",
      "[8 6 3 ... 5 5 5] [8 0 0 ... 5 5 5]\n",
      "0.6765254237288135\n",
      "Iteration:  210\n",
      "[8 6 3 ... 5 5 5] [8 0 0 ... 5 5 5]\n",
      "[8 6 3 ... 5 5 5] [8 0 0 ... 5 5 5]\n",
      "0.6798983050847458\n",
      "Iteration:  220\n",
      "[8 0 3 ... 5 5 5] [8 0 0 ... 5 5 5]\n",
      "[8 0 3 ... 5 5 5] [8 0 0 ... 5 5 5]\n",
      "0.6837457627118644\n",
      "Iteration:  230\n",
      "[8 0 3 ... 5 5 5] [8 0 0 ... 5 5 5]\n",
      "[8 0 3 ... 5 5 5] [8 0 0 ... 5 5 5]\n",
      "0.6871694915254237\n",
      "Iteration:  240\n",
      "[8 0 3 ... 5 5 5] [8 0 0 ... 5 5 5]\n",
      "[8 0 3 ... 5 5 5] [8 0 0 ... 5 5 5]\n",
      "0.6906101694915254\n",
      "Iteration:  250\n",
      "[8 0 3 ... 5 5 5] [8 0 0 ... 5 5 5]\n",
      "[8 0 3 ... 5 5 5] [8 0 0 ... 5 5 5]\n",
      "0.6938813559322033\n",
      "Iteration:  260\n",
      "[8 0 3 ... 5 5 5] [8 0 0 ... 5 5 5]\n",
      "[8 0 3 ... 5 5 5] [8 0 0 ... 5 5 5]\n",
      "0.6970338983050848\n",
      "Iteration:  270\n",
      "[8 0 3 ... 5 5 5] [8 0 0 ... 5 5 5]\n",
      "[8 0 3 ... 5 5 5] [8 0 0 ... 5 5 5]\n",
      "0.6999152542372882\n",
      "Iteration:  280\n",
      "[8 0 3 ... 5 5 5] [8 0 0 ... 5 5 5]\n",
      "[8 0 3 ... 5 5 5] [8 0 0 ... 5 5 5]\n",
      "0.7032881355932203\n",
      "Iteration:  290\n",
      "[8 0 3 ... 5 5 5] [8 0 0 ... 5 5 5]\n",
      "[8 0 3 ... 5 5 5] [8 0 0 ... 5 5 5]\n",
      "0.7062881355932203\n",
      "Iteration:  300\n",
      "[8 0 3 ... 5 5 5] [8 0 0 ... 5 5 5]\n",
      "[8 0 3 ... 5 5 5] [8 0 0 ... 5 5 5]\n",
      "0.7088813559322034\n",
      "Iteration:  310\n",
      "[8 0 3 ... 5 5 5] [8 0 0 ... 5 5 5]\n",
      "[8 0 3 ... 5 5 5] [8 0 0 ... 5 5 5]\n",
      "0.7118474576271187\n",
      "Iteration:  320\n",
      "[8 0 3 ... 5 5 5] [8 0 0 ... 5 5 5]\n",
      "[8 0 3 ... 5 5 5] [8 0 0 ... 5 5 5]\n",
      "0.7141525423728814\n",
      "Iteration:  330\n",
      "[8 0 3 ... 5 5 5] [8 0 0 ... 5 5 5]\n",
      "[8 0 3 ... 5 5 5] [8 0 0 ... 5 5 5]\n",
      "0.7166101694915255\n",
      "Iteration:  340\n",
      "[8 0 3 ... 5 5 5] [8 0 0 ... 5 5 5]\n",
      "[8 0 3 ... 5 5 5] [8 0 0 ... 5 5 5]\n",
      "0.7192033898305085\n",
      "Iteration:  350\n",
      "[8 0 3 ... 5 5 5] [8 0 0 ... 5 5 5]\n",
      "[8 0 3 ... 5 5 5] [8 0 0 ... 5 5 5]\n",
      "0.7217118644067797\n",
      "Iteration:  360\n",
      "[8 0 0 ... 5 5 5] [8 0 0 ... 5 5 5]\n",
      "[8 0 0 ... 5 5 5] [8 0 0 ... 5 5 5]\n",
      "0.7236610169491525\n",
      "Iteration:  370\n",
      "[8 0 0 ... 5 5 5] [8 0 0 ... 5 5 5]\n",
      "[8 0 0 ... 5 5 5] [8 0 0 ... 5 5 5]\n",
      "0.726271186440678\n",
      "Iteration:  380\n",
      "[8 0 0 ... 5 5 5] [8 0 0 ... 5 5 5]\n",
      "[8 0 0 ... 5 5 5] [8 0 0 ... 5 5 5]\n",
      "0.7287966101694915\n",
      "Iteration:  390\n",
      "[8 0 0 ... 5 5 5] [8 0 0 ... 5 5 5]\n",
      "[8 0 0 ... 5 5 5] [8 0 0 ... 5 5 5]\n",
      "0.7312033898305085\n",
      "Iteration:  400\n",
      "[8 0 0 ... 5 5 5] [8 0 0 ... 5 5 5]\n",
      "[8 0 0 ... 5 5 5] [8 0 0 ... 5 5 5]\n",
      "0.7330677966101695\n",
      "Iteration:  410\n",
      "[8 0 0 ... 5 5 5] [8 0 0 ... 5 5 5]\n",
      "[8 0 0 ... 5 5 5] [8 0 0 ... 5 5 5]\n",
      "0.7349322033898306\n",
      "Iteration:  420\n",
      "[8 0 0 ... 5 5 5] [8 0 0 ... 5 5 5]\n",
      "[8 0 0 ... 5 5 5] [8 0 0 ... 5 5 5]\n",
      "0.7370338983050847\n",
      "Iteration:  430\n",
      "[8 0 0 ... 5 5 5] [8 0 0 ... 5 5 5]\n",
      "[8 0 0 ... 5 5 5] [8 0 0 ... 5 5 5]\n",
      "0.7391186440677966\n",
      "Iteration:  440\n",
      "[8 0 0 ... 5 5 5] [8 0 0 ... 5 5 5]\n",
      "[8 0 0 ... 5 5 5] [8 0 0 ... 5 5 5]\n",
      "0.7410169491525423\n",
      "Iteration:  450\n",
      "[8 0 0 ... 5 5 5] [8 0 0 ... 5 5 5]\n",
      "[8 0 0 ... 5 5 5] [8 0 0 ... 5 5 5]\n",
      "0.743\n",
      "Iteration:  460\n",
      "[8 0 0 ... 5 5 5] [8 0 0 ... 5 5 5]\n",
      "[8 0 0 ... 5 5 5] [8 0 0 ... 5 5 5]\n",
      "0.7447118644067796\n",
      "Iteration:  470\n",
      "[8 0 0 ... 5 5 5] [8 0 0 ... 5 5 5]\n",
      "[8 0 0 ... 5 5 5] [8 0 0 ... 5 5 5]\n",
      "0.7464237288135593\n",
      "Iteration:  480\n",
      "[8 0 0 ... 5 5 5] [8 0 0 ... 5 5 5]\n",
      "[8 0 0 ... 5 5 5] [8 0 0 ... 5 5 5]\n",
      "0.7482542372881356\n",
      "Iteration:  490\n",
      "[8 0 0 ... 5 5 5] [8 0 0 ... 5 5 5]\n",
      "[8 0 0 ... 5 5 5] [8 0 0 ... 5 5 5]\n",
      "0.749864406779661\n"
     ]
    }
   ],
   "source": [
    "W1, b1, W2, b2,a = gradient_descent(X_train, Y_train, 0.10, 500)"
   ]
  },
  {
   "cell_type": "markdown",
   "metadata": {},
   "source": [
    "##### Plotting of the Accuracy of the traing Model"
   ]
  },
  {
   "cell_type": "code",
   "execution_count": 57,
   "metadata": {},
   "outputs": [
    {
     "data": {
      "text/plain": [
       "[<matplotlib.lines.Line2D at 0x11b007310>]"
      ]
     },
     "execution_count": 57,
     "metadata": {},
     "output_type": "execute_result"
    },
    {
     "data": {
      "image/png": "[encoded data removed]",
      "text/plain": [
       "<Figure size 432x288 with 1 Axes>"
      ]
     },
     "metadata": {
      "needs_background": "light"
     },
     "output_type": "display_data"
    }
   ],
   "source": [
    "plt.plot(a)"
   ]
  },
  {
   "cell_type": "markdown",
   "metadata": {
    "papermill": {
     "duration": 0.03222,
     "end_time": "2020-11-24T15:34:33.980634",
     "exception": false,
     "start_time": "2020-11-24T15:34:33.948414",
     "status": "completed"
    },
    "tags": []
   },
   "source": [
    "**The accuracy of the model at learning rate of 0.1, for 500 intirations with 2 hidden layers of 10 neurons each is 74.98**"
   ]
  },
  {
   "cell_type": "code",
   "execution_count": 24,
   "metadata": {
    "execution": {
     "iopub.execute_input": "2020-11-24T15:34:34.058947Z",
     "iopub.status.busy": "2020-11-24T15:34:34.058192Z",
     "iopub.status.idle": "2020-11-24T15:34:34.061542Z",
     "shell.execute_reply": "2020-11-24T15:34:34.060921Z"
    },
    "papermill": {
     "duration": 0.048197,
     "end_time": "2020-11-24T15:34:34.061656",
     "exception": false,
     "start_time": "2020-11-24T15:34:34.013459",
     "status": "completed"
    },
    "tags": []
   },
   "outputs": [],
   "source": [
    "def make_predictions(X, W1, b1, W2, b2):\n",
    "    _, _, _, A2 = forward_prop(W1, b1, W2, b2, X)\n",
    "    predictions = get_predictions(A2)\n",
    "    return predictions\n",
    "\n",
    "def test_prediction(index, W1, b1, W2, b2):\n",
    "    current_image = X_train[:, index, None]\n",
    "    prediction = make_predictions(X_train[:, index, None], W1, b1, W2, b2)\n",
    "    label = Y_train[index]\n",
    "    print(\"Prediction: \", prediction)\n",
    "    print(\"Label: \", label)\n",
    "    \n",
    "    current_image = current_image.reshape((28, 28)) * 255\n",
    "    plt.gray()\n",
    "    plt.imshow(current_image, interpolation='nearest')\n",
    "    plt.show()"
   ]
  },
  {
   "cell_type": "markdown",
   "metadata": {
    "papermill": {
     "duration": 0.032382,
     "end_time": "2020-11-24T15:34:34.126664",
     "exception": false,
     "start_time": "2020-11-24T15:34:34.094282",
     "status": "completed"
    },
    "tags": []
   },
   "source": [
    "###### Validating the model:"
   ]
  },
  {
   "cell_type": "code",
   "execution_count": 25,
   "metadata": {
    "execution": {
     "iopub.execute_input": "2020-11-24T15:34:34.198764Z",
     "iopub.status.busy": "2020-11-24T15:34:34.197926Z",
     "iopub.status.idle": "2020-11-24T15:34:34.858256Z",
     "shell.execute_reply": "2020-11-24T15:34:34.857536Z"
    },
    "papermill": {
     "duration": 0.699008,
     "end_time": "2020-11-24T15:34:34.858375",
     "exception": false,
     "start_time": "2020-11-24T15:34:34.159367",
     "status": "completed"
    },
    "tags": []
   },
   "outputs": [
    {
     "name": "stdout",
     "output_type": "stream",
     "text": [
      "Prediction:  [8]\n",
      "Label:  8\n"
     ]
    },
    {
     "data": {
      "image/png": "[encoded data removed]",
      "text/plain": [
       "<Figure size 432x288 with 1 Axes>"
      ]
     },
     "metadata": {
      "needs_background": "light"
     },
     "output_type": "display_data"
    },
    {
     "name": "stdout",
     "output_type": "stream",
     "text": [
      "Prediction:  [0]\n",
      "Label:  0\n"
     ]
    },
    {
     "data": {
      "image/png": "[encoded data removed]",
      "text/plain": [
       "<Figure size 432x288 with 1 Axes>"
      ]
     },
     "metadata": {
      "needs_background": "light"
     },
     "output_type": "display_data"
    },
    {
     "name": "stdout",
     "output_type": "stream",
     "text": [
      "Prediction:  [0]\n",
      "Label:  0\n"
     ]
    },
    {
     "data": {
      "image/png": "[encoded data removed]",
      "text/plain": [
       "<Figure size 432x288 with 1 Axes>"
      ]
     },
     "metadata": {
      "needs_background": "light"
     },
     "output_type": "display_data"
    },
    {
     "name": "stdout",
     "output_type": "stream",
     "text": [
      "Prediction:  [4]\n",
      "Label:  6\n"
     ]
    },
    {
     "data": {
      "image/png": "[encoded data removed]",
      "text/plain": [
       "<Figure size 432x288 with 1 Axes>"
      ]
     },
     "metadata": {
      "needs_background": "light"
     },
     "output_type": "display_data"
    }
   ],
   "source": [
    "test_prediction(0, W1, b1, W2, b2)\n",
    "test_prediction(1, W1, b1, W2, b2)\n",
    "test_prediction(2, W1, b1, W2, b2)\n",
    "test_prediction(3, W1, b1, W2, b2)"
   ]
  },
  {
   "cell_type": "markdown",
   "metadata": {
    "papermill": {
     "duration": 0.037333,
     "end_time": "2020-11-24T15:34:34.933186",
     "exception": false,
     "start_time": "2020-11-24T15:34:34.895853",
     "status": "completed"
    },
    "tags": []
   },
   "source": [
    "##### Accuracy of the model on Development data "
   ]
  },
  {
   "cell_type": "code",
   "execution_count": 26,
   "metadata": {
    "execution": {
     "iopub.execute_input": "2020-11-24T15:34:35.013161Z",
     "iopub.status.busy": "2020-11-24T15:34:35.012371Z",
     "iopub.status.idle": "2020-11-24T15:34:35.033284Z",
     "shell.execute_reply": "2020-11-24T15:34:35.032394Z"
    },
    "papermill": {
     "duration": 0.062985,
     "end_time": "2020-11-24T15:34:35.033457",
     "exception": false,
     "start_time": "2020-11-24T15:34:34.970472",
     "status": "completed"
    },
    "tags": []
   },
   "outputs": [
    {
     "name": "stdout",
     "output_type": "stream",
     "text": [
      "[0 6 6 9 1 3 7 2 2 9 1 0 6 2 0 3 1 0 2 9 7 2 6 4 2 8 5 2 8 9 2 9 5 2 4 7 9\n",
      " 7 2 2 2 7 8 2 2 4 9 9 9 9 7 8 9 2 5 2 8 7 1 9 0 9 9 0 7 2 6 4 2 8 2 0 5 7\n",
      " 7 1 8 2 3 4 0 9 0 8 2 1 2 2 4 3 1 1 1 1 1 4 2 0 3 2 8 7 2 7 9 8 0 6 3 0 0\n",
      " 2 7 5 7 3 3 0 9 4 7 4 1 6 1 9 0 1 2 6 1 5 0 5 6 8 2 7 3 8 8 8 5 2 0 5 8 2\n",
      " 3 9 2 6 9 4 3 4 3 7 9 2 3 3 1 9 1 1 2 2 7 8 2 1 3 9 7 0 1 6 2 2 9 8 3 9 3\n",
      " 0 2 6 0 2 4 2 2 3 7 8 5 7 2 3 3 2 8 3 7 5 5 3 9 4 5 2 2 4 6 5 2 4 0 2 7 7\n",
      " 7 2 4 7 3 7 3 8 3 8 4 7 9 5 3 7 2 4 3 2 2 8 6 4 8 0 7 9 2 8 7 1 6 0 7 2 2\n",
      " 8 0 7 5 8 6 2 5 5 5 1 8 5 0 5 8 2 3 2 2 4 4 7 6 2 1 4 6 2 2 0 0 7 1 8 2 1\n",
      " 9 8 8 3 0 2 2 4 6 1 6 1 7 7 2 8 6 7 2 2 4 9 7 9 2 2 8 1 2 3 8 8 0 1 7 8 8\n",
      " 5 8 8 2 1 0 2 2 4 7 6 1 1 0 4 5 7 2 3 3 1 4 9 9 0 4 7 9 4 6 9 1 3 3 2 3 0\n",
      " 2 7 9 6 0 6 7 0 1 4 6 7 2 2 4 0 1 0 7 6 9 3 9 1 5 1 2 0 1 2 4 1 6 6 9 3 2\n",
      " 6 8 4 5 8 2 3 1 4 3 2 0 2 3 8 0 3 7 2 5 0 5 7 3 0 7 1 1 1 2 3 1 2 8 7 2 0\n",
      " 2 5 8 2 5 7 8 7 4 3 6 6 3 8 1 2 3 3 8 2 2 8 2 9 7 8 1 0 0 3 8 7 9 7 7 1 2\n",
      " 7 0 5 9 8 7 0 2 5 1 8 1 2 0 1 2 5 3 6 7 6 2 3 9 2 7 2 9 0 2 3 9 3 8 2 6 6\n",
      " 7 5 0 8 9 2 7 5 5 5 4 3 2 5 4 5 2 1 6 4 8 8 3 7 7 0 8 8 8 9 9 2 5 6 3 9 7\n",
      " 5 3 8 0 5 2 2 3 9 6 2 2 3 7 4 3 2 7 1 7 3 1 8 4 0 0 0 7 2 7 9 5 8 3 0 2 9\n",
      " 0 8 1 7 0 1 9 5 1 8 0 7 9 3 6 1 0 4 9 3 7 0 7 3 6 4 7 9 0 8 9 9 8 0 9 8 5\n",
      " 3 5 7 4 2 9 9 3 4 2 8 8 7 0 2 0 0 4 4 8 7 5 7 3 4 4 2 1 3 4 1 8 8 1 4 8 2\n",
      " 7 0 8 5 5 4 2 6 6 8 5 9 0 9 3 8 3 8 7 2 8 9 1 7 1 8 2 9 5 7 3 5 6 8 2 2 4\n",
      " 9 0 7 7 7 9 1 3 7 9 9 1 3 8 0 2 4 8 7 2 8 2 4 0 4 5 0 9 3 2 9 9 0 0 3 5 4\n",
      " 2 1 1 0 9 0 1 8 9 6 5 4 3 5 1 2 6 0 6 4 1 8 8 3 8 5 4 1 2 9 2 0 1 4 1 7 8\n",
      " 5 5 7 5 9 9 5 0 0 8 7 7 7 9 1 2 6 8 3 7 3 3 9 5 0 1 9 7 4 3 3 1 5 5 0 1 3\n",
      " 3 7 2 2 7 8 0 2 9 5 0 7 4 5 4 2 2 7 8 3 1 0 9 3 5 7 4 2 2 7 9 9 6 7 2 0 9\n",
      " 5 3 7 1 0 3 9 3 2 3 9 1 0 6 0 0 1 2 7 2 1 1 9 0 6 8 6 9 5 5 0 8 2 3 4 2 0\n",
      " 0 2 6 9 3 2 6 9 7 3 2 5 7 9 8 8 7 6 6 9 1 5 4 1 3 3 2 9 0 4 7 0 5 7 9 1 8\n",
      " 7 8 2 6 9 9 0 2 0 8 4 2 8 5 1 6 6 5 3 9 2 1 7 9 7 1 2 0 3 1 3 3 0 9 9 1 1\n",
      " 0 2 2 9 5 2 3 8 7 5 3 0 7 7 0 1 4 7 3 2 0 5 5 2 5 4 5 1 0 8 8 8 3 3 3 5 3\n",
      " 2] [0 0 6 7 1 3 7 2 2 9 1 0 1 2 0 3 1 3 2 9 7 2 6 4 6 8 5 6 8 5 6 9 9 2 2 7 9\n",
      " 7 2 2 2 5 8 2 4 4 9 9 5 5 7 2 9 2 7 2 8 9 1 9 2 9 9 0 7 2 6 2 4 8 4 0 5 7\n",
      " 7 1 8 2 3 3 6 9 0 8 2 1 6 2 4 3 1 1 1 1 0 4 2 0 3 2 8 7 6 5 7 8 6 6 3 6 6\n",
      " 2 7 5 7 3 3 0 9 2 5 4 1 8 1 9 0 1 2 4 3 5 0 5 2 8 6 9 3 8 8 8 5 4 0 5 8 2\n",
      " 0 9 4 4 9 4 4 4 4 7 9 2 3 3 1 7 3 1 2 2 7 8 2 1 3 9 7 6 1 6 2 4 5 8 3 9 3\n",
      " 0 2 0 0 3 4 4 6 3 7 8 5 7 6 3 0 4 8 3 7 7 7 0 9 4 5 4 6 4 6 5 4 6 0 0 7 5\n",
      " 7 6 4 7 6 7 3 8 3 8 4 7 9 5 3 7 0 4 4 2 2 8 0 4 8 0 7 9 6 8 7 1 8 6 5 2 1\n",
      " 8 0 5 5 8 2 2 5 5 5 1 8 5 0 5 8 6 3 4 2 4 4 7 0 2 3 4 6 6 6 6 3 7 1 8 2 1\n",
      " 9 8 8 3 0 2 6 6 2 1 0 1 7 5 2 0 6 7 0 8 4 5 5 9 2 2 8 1 2 3 8 8 0 1 7 8 8\n",
      " 5 8 4 6 1 0 2 2 4 7 6 1 1 0 4 5 7 3 3 3 1 4 9 9 6 4 7 9 4 0 9 1 6 3 2 4 0\n",
      " 2 8 5 6 6 6 7 6 1 6 1 7 4 6 2 2 1 0 7 6 9 3 5 1 5 1 2 0 1 2 4 1 2 0 9 6 2\n",
      " 5 8 2 5 8 2 3 1 4 0 4 0 2 3 8 0 1 7 2 5 0 5 9 3 8 7 1 1 1 4 3 1 2 8 7 2 0\n",
      " 2 5 8 4 5 7 8 5 4 6 6 4 1 8 1 2 3 8 6 4 6 8 2 9 7 3 1 6 6 3 8 9 9 7 7 1 2\n",
      " 7 6 5 9 8 5 0 4 5 1 8 1 2 0 1 6 5 3 8 7 2 2 1 9 2 7 2 9 6 2 3 5 3 8 2 2 6\n",
      " 7 5 0 8 9 6 7 5 5 5 2 3 2 5 6 5 6 1 0 2 8 8 3 7 7 0 0 8 2 9 9 2 5 1 3 9 7\n",
      " 5 3 8 6 5 2 6 3 9 2 2 4 3 7 2 3 2 7 1 8 3 1 8 4 6 0 0 7 2 9 9 5 8 3 0 2 9\n",
      " 0 8 1 7 0 1 9 5 1 8 0 7 9 5 2 1 0 4 9 3 7 0 5 3 6 4 9 9 6 8 5 5 8 0 9 8 5\n",
      " 3 5 7 6 0 9 9 1 6 6 6 8 7 0 4 0 0 4 4 8 7 7 7 3 4 4 4 1 4 4 1 8 8 1 4 8 2\n",
      " 7 8 8 5 5 6 2 0 2 8 5 9 0 9 3 8 3 8 7 6 8 9 1 7 1 8 2 9 5 7 3 5 3 8 0 4 4\n",
      " 9 0 9 7 7 9 1 3 7 9 9 1 3 8 0 2 3 2 7 4 8 2 6 0 6 5 0 9 3 4 5 9 8 0 3 5 4\n",
      " 6 1 1 6 5 0 1 8 9 6 5 4 3 5 1 2 2 0 6 4 1 8 8 3 8 5 4 1 2 9 2 6 1 4 1 5 8\n",
      " 5 5 7 5 9 5 5 0 0 6 7 7 7 9 1 6 6 8 4 7 0 8 9 7 0 1 9 7 4 3 1 1 0 5 2 1 3\n",
      " 3 7 4 2 7 8 0 4 9 5 0 7 2 5 4 6 4 9 8 0 1 0 7 3 5 7 6 2 2 7 9 9 2 7 2 0 9\n",
      " 9 0 7 1 6 3 9 3 2 6 9 1 0 6 0 0 1 2 7 2 1 1 9 6 2 8 6 9 5 5 0 8 6 3 6 2 0\n",
      " 0 6 2 7 3 2 8 5 7 3 6 7 9 9 2 2 7 2 6 9 1 5 4 1 3 3 0 7 3 4 5 0 5 7 9 1 8\n",
      " 7 8 2 6 7 9 0 2 0 8 6 2 8 5 1 4 0 5 3 9 6 1 7 9 7 1 2 0 3 1 3 3 0 9 9 1 1\n",
      " 0 2 2 9 5 3 3 8 7 5 3 0 7 7 0 1 4 7 3 2 0 5 5 2 5 2 5 1 6 8 8 8 6 3 3 5 4\n",
      " 6]\n"
     ]
    },
    {
     "data": {
      "text/plain": [
       "0.741"
      ]
     },
     "execution_count": 26,
     "metadata": {},
     "output_type": "execute_result"
    }
   ],
   "source": [
    "dev_predictions = make_predictions(X_dev, W1, b1, W2, b2)\n",
    "\n",
    "get_accuracy(dev_predictions, Y_dev)"
   ]
  },
  {
   "cell_type": "markdown",
   "metadata": {
    "papermill": {
     "duration": 0.038287,
     "end_time": "2020-11-24T15:34:35.112466",
     "exception": false,
     "start_time": "2020-11-24T15:34:35.074179",
     "status": "completed"
    },
    "tags": []
   },
   "source": [
    "#### Still 74.1% accuracy, so our model generalized from the training data pretty well."
   ]
  },
  {
   "cell_type": "markdown",
   "metadata": {},
   "source": [
    "#### Q2"
   ]
  },
  {
   "cell_type": "markdown",
   "metadata": {},
   "source": [
    "Observe the performance of Q1 model including one or more tasks from the given list:\n",
    "\n",
    "Preprocessing the data set \n",
    "\n",
    "Using different activation function\n",
    "\n",
    "Using different loss function\n",
    "\n",
    "Different train/test split ratio\n",
    "\n",
    "Tuning the learning rate\n",
    "\n",
    "Modifying hyperparameter like number of hidden layers, number of nodes in each hidden layer, etc\n"
   ]
  },
  {
   "cell_type": "code",
   "execution_count": 59,
   "metadata": {},
   "outputs": [],
   "source": [
    "data = np.array(data)\n",
    "m, n = data.shape\n",
    "np.random.shuffle(data) # shuffle before splitting \n",
    "#Development data\n",
    "data_dev = data[0:1500].T\n",
    "Y_dev = data_dev[0]\n",
    "X_dev = data_dev[1:n]\n",
    "X_dev = X_dev / 255.\n",
    "# Train data\n",
    "data_train = data[1500:m].T\n",
    "Y_train = data_train[0]\n",
    "X_train = data_train[1:n]\n",
    "X_train = X_train / 255.\n",
    "_,m_train = X_train.shape"
   ]
  },
  {
   "cell_type": "markdown",
   "metadata": {},
   "source": [
    "#### Learning rate is 0.15 and 500 iterations"
   ]
  },
  {
   "cell_type": "code",
   "execution_count": 60,
   "metadata": {},
   "outputs": [
    {
     "name": "stdout",
     "output_type": "stream",
     "text": [
      "Iteration:  0\n",
      "[5 9 4 ... 4 5 5] [4 9 0 ... 0 2 3]\n",
      "[5 9 4 ... 4 5 5] [4 9 0 ... 0 2 3]\n",
      "0.0844957264957265\n",
      "Iteration:  10\n",
      "[8 9 3 ... 0 3 4] [4 9 0 ... 0 2 3]\n",
      "[8 9 3 ... 0 3 4] [4 9 0 ... 0 2 3]\n",
      "0.3237264957264957\n",
      "Iteration:  20\n",
      "[8 9 3 ... 3 4 3] [4 9 0 ... 0 2 3]\n",
      "[8 9 3 ... 3 4 3] [4 9 0 ... 0 2 3]\n",
      "0.4416239316239316\n",
      "Iteration:  30\n",
      "[8 9 3 ... 3 4 3] [4 9 0 ... 0 2 3]\n",
      "[8 9 3 ... 3 4 3] [4 9 0 ... 0 2 3]\n",
      "0.5106153846153846\n",
      "Iteration:  40\n",
      "[8 9 3 ... 3 4 3] [4 9 0 ... 0 2 3]\n",
      "[8 9 3 ... 3 4 3] [4 9 0 ... 0 2 3]\n",
      "0.5487179487179488\n",
      "Iteration:  50\n",
      "[8 9 0 ... 0 6 6] [4 9 0 ... 0 2 3]\n",
      "[8 9 0 ... 0 6 6] [4 9 0 ... 0 2 3]\n",
      "0.4963760683760684\n",
      "Iteration:  60\n",
      "[8 9 3 ... 0 6 3] [4 9 0 ... 0 2 3]\n",
      "[8 9 3 ... 0 6 3] [4 9 0 ... 0 2 3]\n",
      "0.5450940170940171\n",
      "Iteration:  70\n",
      "[8 9 3 ... 0 6 3] [4 9 0 ... 0 2 3]\n",
      "[8 9 3 ... 0 6 3] [4 9 0 ... 0 2 3]\n",
      "0.5788888888888889\n",
      "Iteration:  80\n",
      "[2 9 3 ... 0 6 3] [4 9 0 ... 0 2 3]\n",
      "[2 9 3 ... 0 6 3] [4 9 0 ... 0 2 3]\n",
      "0.5992820512820513\n",
      "Iteration:  90\n",
      "[2 9 3 ... 0 6 3] [4 9 0 ... 0 2 3]\n",
      "[2 9 3 ... 0 6 3] [4 9 0 ... 0 2 3]\n",
      "0.6128547008547008\n",
      "Iteration:  100\n",
      "[2 9 3 ... 0 2 3] [4 9 0 ... 0 2 3]\n",
      "[2 9 3 ... 0 2 3] [4 9 0 ... 0 2 3]\n",
      "0.6243076923076923\n",
      "Iteration:  110\n",
      "[2 9 3 ... 0 2 3] [4 9 0 ... 0 2 3]\n",
      "[2 9 3 ... 0 2 3] [4 9 0 ... 0 2 3]\n",
      "0.6338290598290598\n",
      "Iteration:  120\n",
      "[8 9 3 ... 0 2 3] [4 9 0 ... 0 2 3]\n",
      "[8 9 3 ... 0 2 3] [4 9 0 ... 0 2 3]\n",
      "0.6423931623931624\n",
      "Iteration:  130\n",
      "[8 9 3 ... 0 2 3] [4 9 0 ... 0 2 3]\n",
      "[8 9 3 ... 0 2 3] [4 9 0 ... 0 2 3]\n",
      "0.6498632478632479\n",
      "Iteration:  140\n",
      "[8 9 3 ... 0 2 3] [4 9 0 ... 0 2 3]\n",
      "[8 9 3 ... 0 2 3] [4 9 0 ... 0 2 3]\n",
      "0.6563760683760683\n",
      "Iteration:  150\n",
      "[8 9 3 ... 0 2 3] [4 9 0 ... 0 2 3]\n",
      "[8 9 3 ... 0 2 3] [4 9 0 ... 0 2 3]\n",
      "0.6625811965811966\n",
      "Iteration:  160\n",
      "[8 9 3 ... 0 2 3] [4 9 0 ... 0 2 3]\n",
      "[8 9 3 ... 0 2 3] [4 9 0 ... 0 2 3]\n",
      "0.6682735042735043\n",
      "Iteration:  170\n",
      "[8 9 3 ... 0 2 3] [4 9 0 ... 0 2 3]\n",
      "[8 9 3 ... 0 2 3] [4 9 0 ... 0 2 3]\n",
      "0.6721538461538461\n",
      "Iteration:  180\n",
      "[8 9 3 ... 3 2 3] [4 9 0 ... 0 2 3]\n",
      "[8 9 3 ... 3 2 3] [4 9 0 ... 0 2 3]\n",
      "0.6744444444444444\n",
      "Iteration:  190\n",
      "[8 9 3 ... 3 4 3] [4 9 0 ... 0 2 3]\n",
      "[8 9 3 ... 3 4 3] [4 9 0 ... 0 2 3]\n",
      "0.6837948717948718\n",
      "Iteration:  200\n",
      "[8 9 3 ... 3 4 3] [4 9 0 ... 0 2 3]\n",
      "[8 9 3 ... 3 4 3] [4 9 0 ... 0 2 3]\n",
      "0.6887692307692308\n",
      "Iteration:  210\n",
      "[8 9 3 ... 3 4 3] [4 9 0 ... 0 2 3]\n",
      "[8 9 3 ... 3 4 3] [4 9 0 ... 0 2 3]\n",
      "0.6924615384615385\n",
      "Iteration:  220\n",
      "[8 9 3 ... 3 4 3] [4 9 0 ... 0 2 3]\n",
      "[8 9 3 ... 3 4 3] [4 9 0 ... 0 2 3]\n",
      "0.6959316239316239\n",
      "Iteration:  230\n",
      "[8 9 3 ... 3 4 3] [4 9 0 ... 0 2 3]\n",
      "[8 9 3 ... 3 4 3] [4 9 0 ... 0 2 3]\n",
      "0.6992820512820512\n",
      "Iteration:  240\n",
      "[8 9 3 ... 3 4 3] [4 9 0 ... 0 2 3]\n",
      "[8 9 3 ... 3 4 3] [4 9 0 ... 0 2 3]\n",
      "0.7029401709401709\n",
      "Iteration:  250\n",
      "[8 9 3 ... 3 4 3] [4 9 0 ... 0 2 3]\n",
      "[8 9 3 ... 3 4 3] [4 9 0 ... 0 2 3]\n",
      "0.7065299145299145\n",
      "Iteration:  260\n",
      "[8 9 3 ... 3 4 3] [4 9 0 ... 0 2 3]\n",
      "[8 9 3 ... 3 4 3] [4 9 0 ... 0 2 3]\n",
      "0.7098974358974359\n",
      "Iteration:  270\n",
      "[8 9 3 ... 3 4 3] [4 9 0 ... 0 2 3]\n",
      "[8 9 3 ... 3 4 3] [4 9 0 ... 0 2 3]\n",
      "0.7133675213675214\n",
      "Iteration:  280\n",
      "[8 9 3 ... 3 4 3] [4 9 0 ... 0 2 3]\n",
      "[8 9 3 ... 3 4 3] [4 9 0 ... 0 2 3]\n",
      "0.7161538461538461\n",
      "Iteration:  290\n",
      "[8 9 3 ... 3 4 3] [4 9 0 ... 0 2 3]\n",
      "[8 9 3 ... 3 4 3] [4 9 0 ... 0 2 3]\n",
      "0.7189230769230769\n",
      "Iteration:  300\n",
      "[8 9 3 ... 3 4 3] [4 9 0 ... 0 2 3]\n",
      "[8 9 3 ... 3 4 3] [4 9 0 ... 0 2 3]\n",
      "0.7216923076923077\n",
      "Iteration:  310\n",
      "[8 9 3 ... 3 4 3] [4 9 0 ... 0 2 3]\n",
      "[8 9 3 ... 3 4 3] [4 9 0 ... 0 2 3]\n",
      "0.7242393162393163\n",
      "Iteration:  320\n",
      "[8 9 3 ... 3 4 3] [4 9 0 ... 0 2 3]\n",
      "[8 9 3 ... 3 4 3] [4 9 0 ... 0 2 3]\n",
      "0.7274188034188034\n",
      "Iteration:  330\n",
      "[8 9 3 ... 3 4 3] [4 9 0 ... 0 2 3]\n",
      "[8 9 3 ... 3 4 3] [4 9 0 ... 0 2 3]\n",
      "0.7298974358974359\n",
      "Iteration:  340\n",
      "[8 9 3 ... 3 4 3] [4 9 0 ... 0 2 3]\n",
      "[8 9 3 ... 3 4 3] [4 9 0 ... 0 2 3]\n",
      "0.7326666666666667\n",
      "Iteration:  350\n",
      "[8 9 3 ... 3 4 3] [4 9 0 ... 0 2 3]\n",
      "[8 9 3 ... 3 4 3] [4 9 0 ... 0 2 3]\n",
      "0.7345811965811966\n",
      "Iteration:  360\n",
      "[8 9 3 ... 3 4 3] [4 9 0 ... 0 2 3]\n",
      "[8 9 3 ... 3 4 3] [4 9 0 ... 0 2 3]\n",
      "0.7372820512820513\n",
      "Iteration:  370\n",
      "[8 9 3 ... 3 4 3] [4 9 0 ... 0 2 3]\n",
      "[8 9 3 ... 3 4 3] [4 9 0 ... 0 2 3]\n",
      "0.7396068376068377\n",
      "Iteration:  380\n",
      "[8 9 3 ... 3 4 3] [4 9 0 ... 0 2 3]\n",
      "[8 9 3 ... 3 4 3] [4 9 0 ... 0 2 3]\n",
      "0.7418632478632479\n",
      "Iteration:  390\n",
      "[8 9 3 ... 3 4 3] [4 9 0 ... 0 2 3]\n",
      "[8 9 3 ... 3 4 3] [4 9 0 ... 0 2 3]\n",
      "0.7436068376068377\n",
      "Iteration:  400\n",
      "[8 9 3 ... 3 4 3] [4 9 0 ... 0 2 3]\n",
      "[8 9 3 ... 3 4 3] [4 9 0 ... 0 2 3]\n",
      "0.7456581196581197\n",
      "Iteration:  410\n",
      "[8 9 3 ... 3 4 3] [4 9 0 ... 0 2 3]\n",
      "[8 9 3 ... 3 4 3] [4 9 0 ... 0 2 3]\n",
      "0.7476068376068377\n",
      "Iteration:  420\n",
      "[8 9 3 ... 3 4 3] [4 9 0 ... 0 2 3]\n",
      "[8 9 3 ... 3 4 3] [4 9 0 ... 0 2 3]\n",
      "0.7494871794871795\n",
      "Iteration:  430\n",
      "[8 9 3 ... 3 4 3] [4 9 0 ... 0 2 3]\n",
      "[8 9 3 ... 3 4 3] [4 9 0 ... 0 2 3]\n",
      "0.7516239316239316\n",
      "Iteration:  440\n",
      "[8 9 3 ... 3 4 3] [4 9 0 ... 0 2 3]\n",
      "[8 9 3 ... 3 4 3] [4 9 0 ... 0 2 3]\n",
      "0.7537435897435898\n",
      "Iteration:  450\n",
      "[8 9 3 ... 3 4 3] [4 9 0 ... 0 2 3]\n",
      "[8 9 3 ... 3 4 3] [4 9 0 ... 0 2 3]\n",
      "0.7554529914529915\n",
      "Iteration:  460\n",
      "[8 9 3 ... 3 4 3] [4 9 0 ... 0 2 3]\n",
      "[8 9 3 ... 3 4 3] [4 9 0 ... 0 2 3]\n",
      "0.7569059829059829\n",
      "Iteration:  470\n",
      "[8 9 3 ... 3 4 3] [4 9 0 ... 0 2 3]\n",
      "[8 9 3 ... 3 4 3] [4 9 0 ... 0 2 3]\n",
      "0.7583418803418803\n",
      "Iteration:  480\n",
      "[8 9 3 ... 3 4 3] [4 9 0 ... 0 2 3]\n",
      "[8 9 3 ... 3 4 3] [4 9 0 ... 0 2 3]\n",
      "0.7596923076923077\n",
      "Iteration:  490\n",
      "[8 9 3 ... 3 4 3] [4 9 0 ... 0 2 3]\n",
      "[8 9 3 ... 3 4 3] [4 9 0 ... 0 2 3]\n",
      "0.7611452991452992\n"
     ]
    }
   ],
   "source": [
    "W1, b1, W2, b2,a = gradient_descent(X_train, Y_train, 0.15, 500)"
   ]
  },
  {
   "cell_type": "code",
   "execution_count": 61,
   "metadata": {},
   "outputs": [
    {
     "data": {
      "text/plain": [
       "[<matplotlib.lines.Line2D at 0x11a960eb0>]"
      ]
     },
     "execution_count": 61,
     "metadata": {},
     "output_type": "execute_result"
    },
    {
     "data": {
      "image/png": "[encoded data removed]",
      "text/plain": [
       "<Figure size 432x288 with 1 Axes>"
      ]
     },
     "metadata": {
      "needs_background": "light"
     },
     "output_type": "display_data"
    }
   ],
   "source": [
    "plt.plot(a)"
   ]
  },
  {
   "cell_type": "markdown",
   "metadata": {},
   "source": [
    "##### Accuracy of the model at 0.15 learning rate and 500 iterations is 76.11%. There is a slight increase in the accuracy with increase of learning rate for the same model mentioned earlier. "
   ]
  },
  {
   "cell_type": "markdown",
   "metadata": {},
   "source": [
    "##### Same architecture with learning rate of 0.25 and 300 Iterations. "
   ]
  },
  {
   "cell_type": "code",
   "execution_count": 77,
   "metadata": {},
   "outputs": [
    {
     "name": "stdout",
     "output_type": "stream",
     "text": [
      "Iteration:  0\n",
      "[4 4 4 ... 4 4 4] [4 9 0 ... 0 2 3]\n",
      "[4 4 4 ... 4 4 4] [4 9 0 ... 0 2 3]\n",
      "0.12273504273504274\n",
      "Iteration:  10\n",
      "[3 9 1 ... 3 1 1] [4 9 0 ... 0 2 3]\n",
      "[3 9 1 ... 3 1 1] [4 9 0 ... 0 2 3]\n",
      "0.26545299145299145\n",
      "Iteration:  20\n",
      "[3 9 4 ... 2 1 1] [4 9 0 ... 0 2 3]\n",
      "[3 9 4 ... 2 1 1] [4 9 0 ... 0 2 3]\n",
      "0.4205982905982906\n",
      "Iteration:  30\n",
      "[6 9 4 ... 2 2 2] [4 9 0 ... 0 2 3]\n",
      "[6 9 4 ... 2 2 2] [4 9 0 ... 0 2 3]\n",
      "0.5247521367521367\n",
      "Iteration:  40\n",
      "[6 9 4 ... 3 4 4] [4 9 0 ... 0 2 3]\n",
      "[6 9 4 ... 3 4 4] [4 9 0 ... 0 2 3]\n",
      "0.46403418803418806\n",
      "Iteration:  50\n",
      "[6 9 3 ... 3 2 2] [4 9 0 ... 0 2 3]\n",
      "[6 9 3 ... 3 2 2] [4 9 0 ... 0 2 3]\n",
      "0.5343931623931624\n",
      "Iteration:  60\n",
      "[6 9 3 ... 3 2 2] [4 9 0 ... 0 2 3]\n",
      "[6 9 3 ... 3 2 2] [4 9 0 ... 0 2 3]\n",
      "0.5685811965811965\n",
      "Iteration:  70\n",
      "[6 9 3 ... 3 2 6] [4 9 0 ... 0 2 3]\n",
      "[6 9 3 ... 3 2 6] [4 9 0 ... 0 2 3]\n",
      "0.596017094017094\n",
      "Iteration:  80\n",
      "[6 9 3 ... 3 2 6] [4 9 0 ... 0 2 3]\n",
      "[6 9 3 ... 3 2 6] [4 9 0 ... 0 2 3]\n",
      "0.6188376068376068\n",
      "Iteration:  90\n",
      "[6 9 0 ... 0 2 0] [4 9 0 ... 0 2 3]\n",
      "[6 9 0 ... 0 2 0] [4 9 0 ... 0 2 3]\n",
      "0.6275213675213676\n",
      "Iteration:  100\n",
      "[6 9 0 ... 0 2 0] [4 9 0 ... 0 2 3]\n",
      "[6 9 0 ... 0 2 0] [4 9 0 ... 0 2 3]\n",
      "0.6295384615384615\n",
      "Iteration:  110\n",
      "[6 9 0 ... 0 2 0] [4 9 0 ... 0 2 3]\n",
      "[6 9 0 ... 0 2 0] [4 9 0 ... 0 2 3]\n",
      "0.641931623931624\n",
      "Iteration:  120\n",
      "[6 9 0 ... 3 2 0] [4 9 0 ... 0 2 3]\n",
      "[6 9 0 ... 3 2 0] [4 9 0 ... 0 2 3]\n",
      "0.6515042735042735\n",
      "Iteration:  130\n",
      "[6 9 0 ... 3 2 0] [4 9 0 ... 0 2 3]\n",
      "[6 9 0 ... 3 2 0] [4 9 0 ... 0 2 3]\n",
      "0.6597435897435897\n",
      "Iteration:  140\n",
      "[6 9 0 ... 3 2 0] [4 9 0 ... 0 2 3]\n",
      "[6 9 0 ... 3 2 0] [4 9 0 ... 0 2 3]\n",
      "0.6677606837606838\n",
      "Iteration:  150\n",
      "[6 9 0 ... 3 2 6] [4 9 0 ... 0 2 3]\n",
      "[6 9 0 ... 3 2 6] [4 9 0 ... 0 2 3]\n",
      "0.6746324786324787\n",
      "Iteration:  160\n",
      "[6 9 0 ... 3 4 6] [4 9 0 ... 0 2 3]\n",
      "[6 9 0 ... 3 4 6] [4 9 0 ... 0 2 3]\n",
      "0.6817606837606838\n",
      "Iteration:  170\n",
      "[6 9 3 ... 3 4 6] [4 9 0 ... 0 2 3]\n",
      "[6 9 3 ... 3 4 6] [4 9 0 ... 0 2 3]\n",
      "0.6894017094017094\n",
      "Iteration:  180\n",
      "[6 9 3 ... 3 4 6] [4 9 0 ... 0 2 3]\n",
      "[6 9 3 ... 3 4 6] [4 9 0 ... 0 2 3]\n",
      "0.6972991452991453\n",
      "Iteration:  190\n",
      "[6 9 3 ... 3 4 6] [4 9 0 ... 0 2 3]\n",
      "[6 9 3 ... 3 4 6] [4 9 0 ... 0 2 3]\n",
      "0.7047692307692308\n",
      "Iteration:  200\n",
      "[6 9 3 ... 6 4 6] [4 9 0 ... 0 2 3]\n",
      "[6 9 3 ... 6 4 6] [4 9 0 ... 0 2 3]\n",
      "0.7110427350427351\n",
      "Iteration:  210\n",
      "[6 9 3 ... 6 4 6] [4 9 0 ... 0 2 3]\n",
      "[6 9 3 ... 6 4 6] [4 9 0 ... 0 2 3]\n",
      "0.7164615384615385\n",
      "Iteration:  220\n",
      "[6 9 3 ... 6 4 6] [4 9 0 ... 0 2 3]\n",
      "[6 9 3 ... 6 4 6] [4 9 0 ... 0 2 3]\n",
      "0.721965811965812\n",
      "Iteration:  230\n",
      "[6 9 3 ... 3 4 6] [4 9 0 ... 0 2 3]\n",
      "[6 9 3 ... 3 4 6] [4 9 0 ... 0 2 3]\n",
      "0.7266153846153847\n",
      "Iteration:  240\n",
      "[6 9 3 ... 3 4 6] [4 9 0 ... 0 2 3]\n",
      "[6 9 3 ... 3 4 6] [4 9 0 ... 0 2 3]\n",
      "0.730974358974359\n",
      "Iteration:  250\n",
      "[6 9 3 ... 3 4 6] [4 9 0 ... 0 2 3]\n",
      "[6 9 3 ... 3 4 6] [4 9 0 ... 0 2 3]\n",
      "0.7359316239316239\n",
      "Iteration:  260\n",
      "[6 9 3 ... 3 4 6] [4 9 0 ... 0 2 3]\n",
      "[6 9 3 ... 3 4 6] [4 9 0 ... 0 2 3]\n",
      "0.7399145299145299\n",
      "Iteration:  270\n",
      "[6 9 3 ... 3 4 6] [4 9 0 ... 0 2 3]\n",
      "[6 9 3 ... 3 4 6] [4 9 0 ... 0 2 3]\n",
      "0.7432820512820513\n",
      "Iteration:  280\n",
      "[6 9 3 ... 3 4 6] [4 9 0 ... 0 2 3]\n",
      "[6 9 3 ... 3 4 6] [4 9 0 ... 0 2 3]\n",
      "0.7462564102564102\n",
      "Iteration:  290\n",
      "[6 9 3 ... 3 4 6] [4 9 0 ... 0 2 3]\n",
      "[6 9 3 ... 3 4 6] [4 9 0 ... 0 2 3]\n",
      "0.7496581196581197\n"
     ]
    }
   ],
   "source": [
    "W1, b1, W2, b2,a = gradient_descent(X_train, Y_train, 0.25, 300)"
   ]
  },
  {
   "cell_type": "code",
   "execution_count": 78,
   "metadata": {},
   "outputs": [
    {
     "data": {
      "text/plain": [
       "[<matplotlib.lines.Line2D at 0x11979ea00>]"
      ]
     },
     "execution_count": 78,
     "metadata": {},
     "output_type": "execute_result"
    },
    {
     "data": {
      "image/png": "[encoded data removed]",
      "text/plain": [
       "<Figure size 432x288 with 1 Axes>"
      ]
     },
     "metadata": {
      "needs_background": "light"
     },
     "output_type": "display_data"
    }
   ],
   "source": [
    "plt.plot(a)"
   ]
  },
  {
   "cell_type": "markdown",
   "metadata": {},
   "source": [
    "##### The accuracy of the model remains almost same with less number of iterations and increased learning rate. The accuracy of the model at 0.25 leaning rate and 300 epohs is 74.96"
   ]
  },
  {
   "cell_type": "code",
   "execution_count": 79,
   "metadata": {},
   "outputs": [
    {
     "name": "stdout",
     "output_type": "stream",
     "text": [
      "Iteration:  0\n",
      "[3 0 3 ... 3 3 3] [4 9 0 ... 0 2 3]\n",
      "[3 0 3 ... 3 3 3] [4 9 0 ... 0 2 3]\n",
      "0.14435897435897435\n",
      "Iteration:  10\n",
      "[2 9 1 ... 8 2 3] [4 9 0 ... 0 2 3]\n",
      "[2 9 1 ... 8 2 3] [4 9 0 ... 0 2 3]\n",
      "0.4287179487179487\n",
      "Iteration:  20\n",
      "[2 9 3 ... 0 2 3] [4 9 0 ... 0 2 3]\n",
      "[2 9 3 ... 0 2 3] [4 9 0 ... 0 2 3]\n",
      "0.5462222222222223\n",
      "Iteration:  30\n",
      "[8 9 3 ... 8 6 0] [4 9 0 ... 0 2 3]\n",
      "[8 9 3 ... 8 6 0] [4 9 0 ... 0 2 3]\n",
      "0.5207350427350428\n",
      "Iteration:  40\n",
      "[6 9 3 ... 0 4 3] [4 9 0 ... 0 2 3]\n",
      "[6 9 3 ... 0 4 3] [4 9 0 ... 0 2 3]\n",
      "0.5851623931623932\n",
      "Iteration:  50\n",
      "[6 9 3 ... 0 4 3] [4 9 0 ... 0 2 3]\n",
      "[6 9 3 ... 0 4 3] [4 9 0 ... 0 2 3]\n",
      "0.6100341880341881\n",
      "Iteration:  60\n",
      "[6 9 3 ... 0 4 3] [4 9 0 ... 0 2 3]\n",
      "[6 9 3 ... 0 4 3] [4 9 0 ... 0 2 3]\n",
      "0.6307692307692307\n",
      "Iteration:  70\n",
      "[6 9 3 ... 0 4 3] [4 9 0 ... 0 2 3]\n",
      "[6 9 3 ... 0 4 3] [4 9 0 ... 0 2 3]\n",
      "0.6483418803418803\n",
      "Iteration:  80\n",
      "[6 9 3 ... 0 4 3] [4 9 0 ... 0 2 3]\n",
      "[6 9 3 ... 0 4 3] [4 9 0 ... 0 2 3]\n",
      "0.6607692307692308\n",
      "Iteration:  90\n",
      "[6 9 3 ... 0 4 3] [4 9 0 ... 0 2 3]\n",
      "[6 9 3 ... 0 4 3] [4 9 0 ... 0 2 3]\n",
      "0.6716068376068376\n",
      "Iteration:  100\n",
      "[6 9 3 ... 0 4 3] [4 9 0 ... 0 2 3]\n",
      "[6 9 3 ... 0 4 3] [4 9 0 ... 0 2 3]\n",
      "0.6837435897435897\n",
      "Iteration:  110\n",
      "[6 9 3 ... 0 4 3] [4 9 0 ... 0 2 3]\n",
      "[6 9 3 ... 0 4 3] [4 9 0 ... 0 2 3]\n",
      "0.6931452991452991\n",
      "Iteration:  120\n",
      "[6 9 3 ... 0 4 3] [4 9 0 ... 0 2 3]\n",
      "[6 9 3 ... 0 4 3] [4 9 0 ... 0 2 3]\n",
      "0.7021538461538461\n",
      "Iteration:  130\n",
      "[6 9 3 ... 0 4 3] [4 9 0 ... 0 2 3]\n",
      "[6 9 3 ... 0 4 3] [4 9 0 ... 0 2 3]\n",
      "0.7097264957264957\n",
      "Iteration:  140\n",
      "[6 9 3 ... 0 4 3] [4 9 0 ... 0 2 3]\n",
      "[6 9 3 ... 0 4 3] [4 9 0 ... 0 2 3]\n",
      "0.7171623931623932\n",
      "Iteration:  150\n",
      "[6 9 3 ... 0 4 3] [4 9 0 ... 0 2 3]\n",
      "[6 9 3 ... 0 4 3] [4 9 0 ... 0 2 3]\n",
      "0.722905982905983\n",
      "Iteration:  160\n",
      "[6 9 3 ... 0 4 3] [4 9 0 ... 0 2 3]\n",
      "[6 9 3 ... 0 4 3] [4 9 0 ... 0 2 3]\n",
      "0.7287863247863248\n",
      "Iteration:  170\n",
      "[6 9 4 ... 0 4 3] [4 9 0 ... 0 2 3]\n",
      "[6 9 4 ... 0 4 3] [4 9 0 ... 0 2 3]\n",
      "0.7345128205128205\n",
      "Iteration:  180\n",
      "[6 9 4 ... 0 4 3] [4 9 0 ... 0 2 3]\n",
      "[6 9 4 ... 0 4 3] [4 9 0 ... 0 2 3]\n",
      "0.739042735042735\n",
      "Iteration:  190\n",
      "[6 9 3 ... 0 4 3] [4 9 0 ... 0 2 3]\n",
      "[6 9 3 ... 0 4 3] [4 9 0 ... 0 2 3]\n",
      "0.7445470085470085\n",
      "Iteration:  200\n",
      "[6 9 3 ... 0 4 3] [4 9 0 ... 0 2 3]\n",
      "[6 9 3 ... 0 4 3] [4 9 0 ... 0 2 3]\n",
      "0.7483418803418803\n",
      "Iteration:  210\n",
      "[6 9 3 ... 0 4 3] [4 9 0 ... 0 2 3]\n",
      "[6 9 3 ... 0 4 3] [4 9 0 ... 0 2 3]\n",
      "0.7514358974358974\n",
      "Iteration:  220\n",
      "[6 9 3 ... 0 4 3] [4 9 0 ... 0 2 3]\n",
      "[6 9 3 ... 0 4 3] [4 9 0 ... 0 2 3]\n",
      "0.7538461538461538\n",
      "Iteration:  230\n",
      "[6 9 4 ... 0 4 3] [4 9 0 ... 0 2 3]\n",
      "[6 9 4 ... 0 4 3] [4 9 0 ... 0 2 3]\n",
      "0.7558974358974359\n",
      "Iteration:  240\n",
      "[6 9 4 ... 0 4 3] [4 9 0 ... 0 2 3]\n",
      "[6 9 4 ... 0 4 3] [4 9 0 ... 0 2 3]\n",
      "0.7578461538461538\n",
      "Iteration:  250\n",
      "[6 9 4 ... 0 4 4] [4 9 0 ... 0 2 3]\n",
      "[6 9 4 ... 0 4 4] [4 9 0 ... 0 2 3]\n",
      "0.756034188034188\n",
      "Iteration:  260\n",
      "[6 9 4 ... 0 4 3] [4 9 0 ... 0 2 3]\n",
      "[6 9 4 ... 0 4 3] [4 9 0 ... 0 2 3]\n",
      "0.7662905982905983\n",
      "Iteration:  270\n",
      "[6 9 4 ... 0 4 3] [4 9 0 ... 0 2 3]\n",
      "[6 9 4 ... 0 4 3] [4 9 0 ... 0 2 3]\n",
      "0.7684102564102564\n",
      "Iteration:  280\n",
      "[6 9 4 ... 0 4 3] [4 9 0 ... 0 2 3]\n",
      "[6 9 4 ... 0 4 3] [4 9 0 ... 0 2 3]\n",
      "0.770991452991453\n",
      "Iteration:  290\n",
      "[6 9 4 ... 0 4 3] [4 9 0 ... 0 2 3]\n",
      "[6 9 4 ... 0 4 3] [4 9 0 ... 0 2 3]\n",
      "0.7731282051282051\n",
      "Iteration:  300\n",
      "[6 9 3 ... 0 4 3] [4 9 0 ... 0 2 3]\n",
      "[6 9 3 ... 0 4 3] [4 9 0 ... 0 2 3]\n",
      "0.7738290598290598\n",
      "Iteration:  310\n",
      "[6 9 3 ... 0 2 3] [4 9 0 ... 0 2 3]\n",
      "[6 9 3 ... 0 2 3] [4 9 0 ... 0 2 3]\n",
      "0.7631623931623932\n",
      "Iteration:  320\n",
      "[6 9 3 ... 0 4 3] [4 9 0 ... 0 2 3]\n",
      "[6 9 3 ... 0 4 3] [4 9 0 ... 0 2 3]\n",
      "0.7718290598290598\n",
      "Iteration:  330\n",
      "[6 9 3 ... 0 4 3] [4 9 0 ... 0 2 3]\n",
      "[6 9 3 ... 0 4 3] [4 9 0 ... 0 2 3]\n",
      "0.7740854700854701\n",
      "Iteration:  340\n",
      "[6 9 3 ... 0 4 3] [4 9 0 ... 0 2 3]\n",
      "[6 9 3 ... 0 4 3] [4 9 0 ... 0 2 3]\n",
      "0.7772820512820513\n",
      "Iteration:  350\n",
      "[6 9 3 ... 0 4 3] [4 9 0 ... 0 2 3]\n",
      "[6 9 3 ... 0 4 3] [4 9 0 ... 0 2 3]\n",
      "0.7798803418803418\n",
      "Iteration:  360\n",
      "[6 9 3 ... 0 4 3] [4 9 0 ... 0 2 3]\n",
      "[6 9 3 ... 0 4 3] [4 9 0 ... 0 2 3]\n",
      "0.782051282051282\n",
      "Iteration:  370\n",
      "[6 9 6 ... 0 4 3] [4 9 0 ... 0 2 3]\n",
      "[6 9 6 ... 0 4 3] [4 9 0 ... 0 2 3]\n",
      "0.7834871794871795\n",
      "Iteration:  380\n",
      "[6 9 6 ... 0 4 3] [4 9 0 ... 0 2 3]\n",
      "[6 9 6 ... 0 4 3] [4 9 0 ... 0 2 3]\n",
      "0.7848888888888889\n",
      "Iteration:  390\n",
      "[6 9 6 ... 0 4 3] [4 9 0 ... 0 2 3]\n",
      "[6 9 6 ... 0 4 3] [4 9 0 ... 0 2 3]\n",
      "0.7860854700854701\n",
      "Iteration:  400\n",
      "[6 9 6 ... 0 4 3] [4 9 0 ... 0 2 3]\n",
      "[6 9 6 ... 0 4 3] [4 9 0 ... 0 2 3]\n",
      "0.787042735042735\n",
      "Iteration:  410\n",
      "[6 9 6 ... 0 4 3] [4 9 0 ... 0 2 3]\n",
      "[6 9 6 ... 0 4 3] [4 9 0 ... 0 2 3]\n",
      "0.7877948717948718\n",
      "Iteration:  420\n",
      "[6 9 6 ... 0 4 3] [4 9 0 ... 0 2 3]\n",
      "[6 9 6 ... 0 4 3] [4 9 0 ... 0 2 3]\n",
      "0.7887692307692308\n",
      "Iteration:  430\n",
      "[6 9 6 ... 0 4 3] [4 9 0 ... 0 2 3]\n",
      "[6 9 6 ... 0 4 3] [4 9 0 ... 0 2 3]\n",
      "0.7901025641025641\n",
      "Iteration:  440\n",
      "[6 9 6 ... 0 4 3] [4 9 0 ... 0 2 3]\n",
      "[6 9 6 ... 0 4 3] [4 9 0 ... 0 2 3]\n",
      "0.7912991452991452\n",
      "Iteration:  450\n",
      "[6 9 6 ... 0 4 3] [4 9 0 ... 0 2 3]\n",
      "[6 9 6 ... 0 4 3] [4 9 0 ... 0 2 3]\n",
      "0.7921538461538462\n",
      "Iteration:  460\n",
      "[6 9 6 ... 0 4 3] [4 9 0 ... 0 2 3]\n",
      "[6 9 6 ... 0 4 3] [4 9 0 ... 0 2 3]\n",
      "0.7933333333333333\n",
      "Iteration:  470\n",
      "[6 9 6 ... 0 4 3] [4 9 0 ... 0 2 3]\n",
      "[6 9 6 ... 0 4 3] [4 9 0 ... 0 2 3]\n",
      "0.794034188034188\n",
      "Iteration:  480\n",
      "[6 9 6 ... 0 4 3] [4 9 0 ... 0 2 3]\n",
      "[6 9 6 ... 0 4 3] [4 9 0 ... 0 2 3]\n",
      "0.7949401709401709\n",
      "Iteration:  490\n",
      "[6 9 6 ... 0 4 3] [4 9 0 ... 0 2 3]\n",
      "[6 9 6 ... 0 4 3] [4 9 0 ... 0 2 3]\n",
      "0.7953675213675213\n"
     ]
    }
   ],
   "source": [
    "W1, b1, W2, b2,a = gradient_descent(X_train, Y_train, 0.25, 500)"
   ]
  },
  {
   "cell_type": "markdown",
   "metadata": {},
   "source": [
    "###### For this model with same learning rate with increased iterations results in increase of accuracy. The accuracy reaches to 80% at 0.25 learning rate and for 500 iterations for the above architecture. "
   ]
  },
  {
   "cell_type": "code",
   "execution_count": 80,
   "metadata": {},
   "outputs": [
    {
     "data": {
      "text/plain": [
       "[<matplotlib.lines.Line2D at 0x1198f4df0>]"
      ]
     },
     "execution_count": 80,
     "metadata": {},
     "output_type": "execute_result"
    },
    {
     "data": {
      "image/png": "[encoded data removed]",
      "text/plain": [
       "<Figure size 432x288 with 1 Axes>"
      ]
     },
     "metadata": {
      "needs_background": "light"
     },
     "output_type": "display_data"
    }
   ],
   "source": [
    "plt.plot(a)"
   ]
  },
  {
   "cell_type": "code",
   "execution_count": 81,
   "metadata": {},
   "outputs": [
    {
     "name": "stdout",
     "output_type": "stream",
     "text": [
      "Prediction:  [6]\n",
      "Label:  4\n"
     ]
    },
    {
     "data": {
      "image/png": "[encoded data removed]",
      "text/plain": [
       "<Figure size 432x288 with 1 Axes>"
      ]
     },
     "metadata": {
      "needs_background": "light"
     },
     "output_type": "display_data"
    },
    {
     "name": "stdout",
     "output_type": "stream",
     "text": [
      "Prediction:  [9]\n",
      "Label:  9\n"
     ]
    },
    {
     "data": {
      "image/png": "[encoded data removed]",
      "text/plain": [
       "<Figure size 432x288 with 1 Axes>"
      ]
     },
     "metadata": {
      "needs_background": "light"
     },
     "output_type": "display_data"
    },
    {
     "name": "stdout",
     "output_type": "stream",
     "text": [
      "Prediction:  [6]\n",
      "Label:  0\n"
     ]
    },
    {
     "data": {
      "image/png": "[encoded data removed]",
      "text/plain": [
       "<Figure size 432x288 with 1 Axes>"
      ]
     },
     "metadata": {
      "needs_background": "light"
     },
     "output_type": "display_data"
    },
    {
     "name": "stdout",
     "output_type": "stream",
     "text": [
      "Prediction:  [9]\n",
      "Label:  9\n"
     ]
    },
    {
     "data": {
      "image/png": "[encoded data removed]",
      "text/plain": [
       "<Figure size 432x288 with 1 Axes>"
      ]
     },
     "metadata": {
      "needs_background": "light"
     },
     "output_type": "display_data"
    }
   ],
   "source": [
    "test_prediction(0, W1, b1, W2, b2)\n",
    "test_prediction(1, W1, b1, W2, b2)\n",
    "test_prediction(2, W1, b1, W2, b2)\n",
    "test_prediction(3, W1, b1, W2, b2)"
   ]
  },
  {
   "cell_type": "code",
   "execution_count": 82,
   "metadata": {},
   "outputs": [
    {
     "name": "stdout",
     "output_type": "stream",
     "text": [
      "[0 4 2 ... 3 0 2] [6 2 2 ... 3 0 2]\n"
     ]
    },
    {
     "data": {
      "text/plain": [
       "0.7973333333333333"
      ]
     },
     "execution_count": 82,
     "metadata": {},
     "output_type": "execute_result"
    }
   ],
   "source": [
    "dev_predictions = make_predictions(X_dev, W1, b1, W2, b2)\n",
    "\n",
    "get_accuracy(dev_predictions, Y_dev)"
   ]
  },
  {
   "cell_type": "markdown",
   "metadata": {},
   "source": [
    "#### Here we have 784 columns and 2 hidden layers with 15 neurons in one hidden layer and 10 neurons in second hidden layer. "
   ]
  },
  {
   "cell_type": "code",
   "execution_count": 99,
   "metadata": {},
   "outputs": [],
   "source": [
    "data = np.array(data)\n",
    "m, n = data.shape\n",
    "np.random.shuffle(data) # shuffle before splitting \n",
    "#Development data\n",
    "data_dev = data[0:2000].T\n",
    "Y_dev = data_dev[0]\n",
    "X_dev = data_dev[1:n]\n",
    "X_dev = X_dev / 255.\n",
    "# Train data\n",
    "data_train = data[2000:m].T\n",
    "Y_train = data_train[0]\n",
    "X_train = data_train[1:n]\n",
    "X_train = X_train / 255.\n",
    "_,m_train = X_train.shape"
   ]
  },
  {
   "cell_type": "code",
   "execution_count": 103,
   "metadata": {},
   "outputs": [],
   "source": [
    "def init_params():\n",
    "    W1 = np.random.rand(15, 784) - 0.5\n",
    "    b1 = np.random.rand(15, 1) - 0.5\n",
    "    W2 = np.random.rand(10, 15) - 0.5\n",
    "    b2 = np.random.rand(10, 1) - 0.5\n",
    "    return W1, b1, W2, b2\n",
    "\n",
    "def ReLU(Z):\n",
    "    return np.maximum(Z, 0)\n",
    "\n",
    "def softmax(Z):\n",
    "    A = np.exp(Z) / sum(np.exp(Z))\n",
    "    return A\n",
    "    \n",
    "def forward_prop(W1, b1, W2, b2, X):\n",
    "    Z1 = W1.dot(X) + b1\n",
    "    A1 = ReLU(Z1)\n",
    "    Z2 = W2.dot(A1) + b2\n",
    "    A2 = softmax(Z2)\n",
    "    return Z1, A1, Z2, A2\n",
    "\n",
    "def ReLU_deriv(Z):\n",
    "    return Z > 0\n",
    "\n",
    "def one_hot(Y):\n",
    "    one_hot_Y = np.zeros((Y.size, Y.max() + 1))\n",
    "    one_hot_Y[np.arange(Y.size), Y] = 1\n",
    "    one_hot_Y = one_hot_Y.T\n",
    "    return one_hot_Y\n",
    "\n",
    "\n",
    "\n",
    "def backward_prop(Z1, A1, Z2, A2, W1, W2, X, Y):\n",
    "    one_hot_Y = one_hot(Y)\n",
    "    dZ2 = A2 - one_hot_Y\n",
    "    dW2 = 1 / m * dZ2.dot(A1.T)\n",
    "    db2 = 1 / m * np.sum(dZ2)\n",
    "    dZ1 = W2.T.dot(dZ2) * ReLU_deriv(Z1)\n",
    "    dW1 = 1 / m * dZ1.dot(X.T)\n",
    "    db1 = 1 / m * np.sum(dZ1)\n",
    "    return dW1, db1, dW2, db2\n",
    "\n",
    "def update_params(W1, b1, W2, b2, dW1, db1, dW2, db2, alpha):\n",
    "    W1 = W1 - alpha * dW1\n",
    "    b1 = b1 - alpha * db1    \n",
    "    W2 = W2 - alpha * dW2  \n",
    "    b2 = b2 - alpha * db2    \n",
    "    return W1, b1, W2, b2"
   ]
  },
  {
   "cell_type": "code",
   "execution_count": 101,
   "metadata": {},
   "outputs": [],
   "source": [
    "def get_predictions(A2):\n",
    "    return np.argmax(A2, 0)\n",
    "\n",
    "def get_accuracy(predictions, Y):\n",
    "    print(predictions, Y)\n",
    "    return np.sum(predictions == Y) / Y.size\n",
    "\n",
    "\n",
    "def gradient_descent(X, Y, alpha, iterations):\n",
    "    #global a\n",
    "    a=[]\n",
    "    W1, b1, W2, b2 = init_params()\n",
    "    for i in range(iterations):\n",
    "        Z1, A1, Z2, A2 = forward_prop(W1, b1, W2, b2, X)\n",
    "        dW1, db1, dW2, db2 = backward_prop(Z1, A1, Z2, A2, W1, W2, X, Y)\n",
    "        W1, b1, W2, b2 = update_params(W1, b1, W2, b2, dW1, db1, dW2, db2, alpha)\n",
    "        if i % 10 == 0:\n",
    "            print(\"Iteration: \", i)\n",
    "            predictions = get_predictions(A2)\n",
    "            A=get_accuracy(predictions, Y)\n",
    "            print(get_accuracy(predictions, Y))\n",
    "            a.append(A)\n",
    "    return W1, b1, W2, b2,a"
   ]
  },
  {
   "cell_type": "code",
   "execution_count": 104,
   "metadata": {},
   "outputs": [
    {
     "name": "stdout",
     "output_type": "stream",
     "text": [
      "Iteration:  0\n",
      "[3 8 3 ... 3 3 4] [9 5 6 ... 8 3 2]\n",
      "[3 8 3 ... 3 3 4] [9 5 6 ... 8 3 2]\n",
      "0.1349655172413793\n",
      "Iteration:  10\n",
      "[0 8 0 ... 3 3 2] [9 5 6 ... 8 3 2]\n",
      "[0 8 0 ... 3 3 2] [9 5 6 ... 8 3 2]\n",
      "0.3565\n",
      "Iteration:  20\n",
      "[9 9 0 ... 3 3 2] [9 5 6 ... 8 3 2]\n",
      "[9 9 0 ... 3 3 2] [9 5 6 ... 8 3 2]\n",
      "0.4869655172413793\n",
      "Iteration:  30\n",
      "[5 9 0 ... 3 3 2] [9 5 6 ... 8 3 2]\n",
      "[5 9 0 ... 3 3 2] [9 5 6 ... 8 3 2]\n",
      "0.5427758620689656\n",
      "Iteration:  40\n",
      "[5 5 0 ... 3 3 2] [9 5 6 ... 8 3 2]\n",
      "[5 5 0 ... 3 3 2] [9 5 6 ... 8 3 2]\n",
      "0.5739137931034483\n",
      "Iteration:  50\n",
      "[5 5 0 ... 3 3 2] [9 5 6 ... 8 3 2]\n",
      "[5 5 0 ... 3 3 2] [9 5 6 ... 8 3 2]\n",
      "0.5954310344827586\n",
      "Iteration:  60\n",
      "[5 5 0 ... 3 3 2] [9 5 6 ... 8 3 2]\n",
      "[5 5 0 ... 3 3 2] [9 5 6 ... 8 3 2]\n",
      "0.6106206896551725\n",
      "Iteration:  70\n",
      "[9 5 0 ... 3 3 2] [9 5 6 ... 8 3 2]\n",
      "[9 5 0 ... 3 3 2] [9 5 6 ... 8 3 2]\n",
      "0.6235172413793103\n",
      "Iteration:  80\n",
      "[9 5 0 ... 3 3 2] [9 5 6 ... 8 3 2]\n",
      "[9 5 0 ... 3 3 2] [9 5 6 ... 8 3 2]\n",
      "0.6339137931034483\n",
      "Iteration:  90\n",
      "[9 5 0 ... 3 3 2] [9 5 6 ... 8 3 2]\n",
      "[9 5 0 ... 3 3 2] [9 5 6 ... 8 3 2]\n",
      "0.6432413793103449\n",
      "Iteration:  100\n",
      "[9 5 0 ... 3 3 2] [9 5 6 ... 8 3 2]\n",
      "[9 5 0 ... 3 3 2] [9 5 6 ... 8 3 2]\n",
      "0.6517068965517241\n",
      "Iteration:  110\n",
      "[9 5 0 ... 3 3 2] [9 5 6 ... 8 3 2]\n",
      "[9 5 0 ... 3 3 2] [9 5 6 ... 8 3 2]\n",
      "0.6597586206896552\n",
      "Iteration:  120\n",
      "[9 5 0 ... 3 3 2] [9 5 6 ... 8 3 2]\n",
      "[9 5 0 ... 3 3 2] [9 5 6 ... 8 3 2]\n",
      "0.6667068965517241\n",
      "Iteration:  130\n",
      "[9 5 0 ... 3 3 2] [9 5 6 ... 8 3 2]\n",
      "[9 5 0 ... 3 3 2] [9 5 6 ... 8 3 2]\n",
      "0.6729655172413793\n",
      "Iteration:  140\n",
      "[9 5 0 ... 3 3 2] [9 5 6 ... 8 3 2]\n",
      "[9 5 0 ... 3 3 2] [9 5 6 ... 8 3 2]\n",
      "0.6785172413793104\n",
      "Iteration:  150\n",
      "[9 5 0 ... 3 3 2] [9 5 6 ... 8 3 2]\n",
      "[9 5 0 ... 3 3 2] [9 5 6 ... 8 3 2]\n",
      "0.683948275862069\n",
      "Iteration:  160\n",
      "[9 5 0 ... 3 3 2] [9 5 6 ... 8 3 2]\n",
      "[9 5 0 ... 3 3 2] [9 5 6 ... 8 3 2]\n",
      "0.6902413793103448\n",
      "Iteration:  170\n",
      "[9 5 0 ... 3 3 2] [9 5 6 ... 8 3 2]\n",
      "[9 5 0 ... 3 3 2] [9 5 6 ... 8 3 2]\n",
      "0.6931379310344827\n",
      "Iteration:  180\n",
      "[9 5 0 ... 3 3 2] [9 5 6 ... 8 3 2]\n",
      "[9 5 0 ... 3 3 2] [9 5 6 ... 8 3 2]\n",
      "0.6767931034482758\n",
      "Iteration:  190\n",
      "[9 5 0 ... 3 3 2] [9 5 6 ... 8 3 2]\n",
      "[9 5 0 ... 3 3 2] [9 5 6 ... 8 3 2]\n",
      "0.6867758620689656\n",
      "Iteration:  200\n",
      "[9 5 0 ... 3 3 2] [9 5 6 ... 8 3 2]\n",
      "[9 5 0 ... 3 3 2] [9 5 6 ... 8 3 2]\n",
      "0.6932758620689655\n",
      "Iteration:  210\n",
      "[9 5 0 ... 3 3 2] [9 5 6 ... 8 3 2]\n",
      "[9 5 0 ... 3 3 2] [9 5 6 ... 8 3 2]\n",
      "0.6987758620689655\n",
      "Iteration:  220\n",
      "[9 5 0 ... 3 3 2] [9 5 6 ... 8 3 2]\n",
      "[9 5 0 ... 3 3 2] [9 5 6 ... 8 3 2]\n",
      "0.7026034482758621\n",
      "Iteration:  230\n",
      "[9 5 0 ... 3 3 2] [9 5 6 ... 8 3 2]\n",
      "[9 5 0 ... 3 3 2] [9 5 6 ... 8 3 2]\n",
      "0.7059137931034483\n",
      "Iteration:  240\n",
      "[9 5 0 ... 3 3 2] [9 5 6 ... 8 3 2]\n",
      "[9 5 0 ... 3 3 2] [9 5 6 ... 8 3 2]\n",
      "0.7090862068965518\n",
      "Iteration:  250\n",
      "[9 5 0 ... 3 3 2] [9 5 6 ... 8 3 2]\n",
      "[9 5 0 ... 3 3 2] [9 5 6 ... 8 3 2]\n",
      "0.7119655172413794\n",
      "Iteration:  260\n",
      "[9 5 0 ... 3 3 2] [9 5 6 ... 8 3 2]\n",
      "[9 5 0 ... 3 3 2] [9 5 6 ... 8 3 2]\n",
      "0.7151551724137931\n",
      "Iteration:  270\n",
      "[9 5 0 ... 3 3 2] [9 5 6 ... 8 3 2]\n",
      "[9 5 0 ... 3 3 2] [9 5 6 ... 8 3 2]\n",
      "0.7178103448275862\n",
      "Iteration:  280\n",
      "[9 5 0 ... 3 3 2] [9 5 6 ... 8 3 2]\n",
      "[9 5 0 ... 3 3 2] [9 5 6 ... 8 3 2]\n",
      "0.7202758620689655\n",
      "Iteration:  290\n",
      "[9 5 0 ... 3 3 2] [9 5 6 ... 8 3 2]\n",
      "[9 5 0 ... 3 3 2] [9 5 6 ... 8 3 2]\n",
      "0.7232586206896552\n",
      "Iteration:  300\n",
      "[9 5 0 ... 3 3 2] [9 5 6 ... 8 3 2]\n",
      "[9 5 0 ... 3 3 2] [9 5 6 ... 8 3 2]\n",
      "0.7260172413793103\n",
      "Iteration:  310\n",
      "[9 5 0 ... 3 3 2] [9 5 6 ... 8 3 2]\n",
      "[9 5 0 ... 3 3 2] [9 5 6 ... 8 3 2]\n",
      "0.7285344827586206\n",
      "Iteration:  320\n",
      "[9 5 0 ... 3 3 2] [9 5 6 ... 8 3 2]\n",
      "[9 5 0 ... 3 3 2] [9 5 6 ... 8 3 2]\n",
      "0.7306034482758621\n",
      "Iteration:  330\n",
      "[9 5 0 ... 3 3 2] [9 5 6 ... 8 3 2]\n",
      "[9 5 0 ... 3 3 2] [9 5 6 ... 8 3 2]\n",
      "0.7326206896551725\n",
      "Iteration:  340\n",
      "[9 5 0 ... 3 3 2] [9 5 6 ... 8 3 2]\n",
      "[9 5 0 ... 3 3 2] [9 5 6 ... 8 3 2]\n",
      "0.7348620689655172\n",
      "Iteration:  350\n",
      "[9 5 0 ... 3 3 2] [9 5 6 ... 8 3 2]\n",
      "[9 5 0 ... 3 3 2] [9 5 6 ... 8 3 2]\n",
      "0.7369655172413793\n",
      "Iteration:  360\n",
      "[9 5 0 ... 3 3 2] [9 5 6 ... 8 3 2]\n",
      "[9 5 0 ... 3 3 2] [9 5 6 ... 8 3 2]\n",
      "0.7386206896551725\n",
      "Iteration:  370\n",
      "[9 5 0 ... 3 3 2] [9 5 6 ... 8 3 2]\n",
      "[9 5 0 ... 3 3 2] [9 5 6 ... 8 3 2]\n",
      "0.7405172413793103\n",
      "Iteration:  380\n",
      "[9 5 0 ... 3 3 2] [9 5 6 ... 8 3 2]\n",
      "[9 5 0 ... 3 3 2] [9 5 6 ... 8 3 2]\n",
      "0.741948275862069\n",
      "Iteration:  390\n",
      "[9 5 0 ... 3 3 2] [9 5 6 ... 8 3 2]\n",
      "[9 5 0 ... 3 3 2] [9 5 6 ... 8 3 2]\n",
      "0.7435862068965517\n",
      "Iteration:  400\n",
      "[9 5 0 ... 3 3 2] [9 5 6 ... 8 3 2]\n",
      "[9 5 0 ... 3 3 2] [9 5 6 ... 8 3 2]\n",
      "0.7452413793103448\n",
      "Iteration:  410\n",
      "[9 5 0 ... 3 3 2] [9 5 6 ... 8 3 2]\n",
      "[9 5 0 ... 3 3 2] [9 5 6 ... 8 3 2]\n",
      "0.7470517241379311\n",
      "Iteration:  420\n",
      "[9 5 0 ... 3 3 2] [9 5 6 ... 8 3 2]\n",
      "[9 5 0 ... 3 3 2] [9 5 6 ... 8 3 2]\n",
      "0.7483275862068965\n",
      "Iteration:  430\n",
      "[9 5 0 ... 3 3 2] [9 5 6 ... 8 3 2]\n",
      "[9 5 0 ... 3 3 2] [9 5 6 ... 8 3 2]\n",
      "0.7496379310344827\n",
      "Iteration:  440\n",
      "[9 5 0 ... 3 3 2] [9 5 6 ... 8 3 2]\n",
      "[9 5 0 ... 3 3 2] [9 5 6 ... 8 3 2]\n",
      "0.7510862068965517\n",
      "Iteration:  450\n",
      "[9 5 0 ... 3 3 2] [9 5 6 ... 8 3 2]\n",
      "[9 5 0 ... 3 3 2] [9 5 6 ... 8 3 2]\n",
      "0.7527758620689655\n",
      "Iteration:  460\n",
      "[9 5 0 ... 3 3 2] [9 5 6 ... 8 3 2]\n",
      "[9 5 0 ... 3 3 2] [9 5 6 ... 8 3 2]\n",
      "0.7543793103448276\n",
      "Iteration:  470\n",
      "[9 5 0 ... 3 3 2] [9 5 6 ... 8 3 2]\n",
      "[9 5 0 ... 3 3 2] [9 5 6 ... 8 3 2]\n",
      "0.7556379310344827\n",
      "Iteration:  480\n",
      "[9 5 0 ... 3 3 2] [9 5 6 ... 8 3 2]\n",
      "[9 5 0 ... 3 3 2] [9 5 6 ... 8 3 2]\n",
      "0.7569310344827587\n",
      "Iteration:  490\n",
      "[9 5 0 ... 3 3 2] [9 5 6 ... 8 3 2]\n",
      "[9 5 0 ... 3 3 2] [9 5 6 ... 8 3 2]\n",
      "0.757896551724138\n"
     ]
    }
   ],
   "source": [
    "W1, b1, W2, b2,a = gradient_descent(X_train, Y_train, 0.10, 500)"
   ]
  },
  {
   "cell_type": "markdown",
   "metadata": {},
   "source": [
    "**The accuracy of the model at learning rate of 0.1, for 500 intirations with 2 hidden layers of 15 neurons in first hidden layer and 10 in second layer is 75.78. With increase in neurons in the fisrt layer increase the accuracy by 1%. With increase in learning rate, neurons in hidden layers, iterations results in increase of accuracy.**"
   ]
  }
 ],
 "metadata": {
  "kernelspec": {
   "display_name": "Python 3 (ipykernel)",
   "language": "python",
   "name": "python3"
  },
  "language_info": {
   "codemirror_mode": {
    "name": "ipython",
    "version": 3
   },
   "file_extension": ".py",
   "mimetype": "text/x-python",
   "name": "python",
   "nbconvert_exporter": "python",
   "pygments_lexer": "ipython3",
   "version": "3.9.12"
  },
  "papermill": {
   "duration": 55.320944,
   "end_time": "2020-11-24T15:34:35.258832",
   "environment_variables": {},
   "exception": null,
   "input_path": "__notebook__.ipynb",
   "output_path": "__notebook__.ipynb",
   "parameters": {},
   "start_time": "2020-11-24T15:33:39.937888",
   "version": "2.1.0"
  }
 },
 "nbformat": 4,
 "nbformat_minor": 4
}
