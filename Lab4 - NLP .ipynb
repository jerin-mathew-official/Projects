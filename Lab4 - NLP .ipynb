{
 "cells": [
  {
   "cell_type": "markdown",
   "id": "feeb3bf3",
   "metadata": {},
   "source": [
    "# Lab 4 - NLP\n",
    "# Stemming & Lemmatization\n",
    "\n",
    "## Name: Jerin Mathew\n",
    "## Roll No: 2139455"
   ]
  },
  {
   "cell_type": "markdown",
   "id": "a45f4489",
   "metadata": {},
   "source": [
    "### Importing Required Libraries "
   ]
  },
  {
   "cell_type": "code",
   "execution_count": 1,
   "id": "f20b6db2",
   "metadata": {},
   "outputs": [],
   "source": [
    "import pandas as pd \n",
    "import numpy as np\n",
    "import nltk"
   ]
  },
  {
   "cell_type": "markdown",
   "id": "fdf39723",
   "metadata": {},
   "source": [
    "### Loading the Dataset\n",
    "\n",
    "### Twitter Sentimental Analysis\n",
    "\n",
    "#### The objective of this task is to detect hate speech in tweets. For the sake of simplicity, we say a tweet contains hate speech if it has a racist or sexist sentiment associated with it. So, the task is to classify racist or sexist tweets from other tweets.\n",
    "\n",
    "#### Formally, given a training sample of tweets and labels, where label '1' denotes the tweet is racist/sexist and label '0' denotes the tweet is not racist/sexist, your objective is to predict the labels on the test dataset."
   ]
  },
  {
   "cell_type": "code",
   "execution_count": 3,
   "id": "4290027c",
   "metadata": {},
   "outputs": [],
   "source": [
    "train = pd.read_csv('C:/ClassesMSC/DataSets/train.csv')\n",
    "test = pd.read_csv('C:/ClassesMSC/DataSets/test.csv')"
   ]
  },
  {
   "cell_type": "code",
   "execution_count": 4,
   "id": "041dcc50",
   "metadata": {},
   "outputs": [
    {
     "data": {
      "text/html": [
       "<div>\n",
       "<style scoped>\n",
       "    .dataframe tbody tr th:only-of-type {\n",
       "        vertical-align: middle;\n",
       "    }\n",
       "\n",
       "    .dataframe tbody tr th {\n",
       "        vertical-align: top;\n",
       "    }\n",
       "\n",
       "    .dataframe thead th {\n",
       "        text-align: right;\n",
       "    }\n",
       "</style>\n",
       "<table border=\"1\" class=\"dataframe\">\n",
       "  <thead>\n",
       "    <tr style=\"text-align: right;\">\n",
       "      <th></th>\n",
       "      <th>id</th>\n",
       "      <th>label</th>\n",
       "      <th>tweet</th>\n",
       "    </tr>\n",
       "  </thead>\n",
       "  <tbody>\n",
       "    <tr>\n",
       "      <th>0</th>\n",
       "      <td>1</td>\n",
       "      <td>0</td>\n",
       "      <td>@user when a father is dysfunctional and is s...</td>\n",
       "    </tr>\n",
       "    <tr>\n",
       "      <th>1</th>\n",
       "      <td>2</td>\n",
       "      <td>0</td>\n",
       "      <td>@user @user thanks for #lyft credit i can't us...</td>\n",
       "    </tr>\n",
       "    <tr>\n",
       "      <th>2</th>\n",
       "      <td>3</td>\n",
       "      <td>0</td>\n",
       "      <td>bihday your majesty</td>\n",
       "    </tr>\n",
       "    <tr>\n",
       "      <th>3</th>\n",
       "      <td>4</td>\n",
       "      <td>0</td>\n",
       "      <td>#model   i love u take with u all the time in ...</td>\n",
       "    </tr>\n",
       "    <tr>\n",
       "      <th>4</th>\n",
       "      <td>5</td>\n",
       "      <td>0</td>\n",
       "      <td>factsguide: society now    #motivation</td>\n",
       "    </tr>\n",
       "  </tbody>\n",
       "</table>\n",
       "</div>"
      ],
      "text/plain": [
       "   id  label                                              tweet\n",
       "0   1      0   @user when a father is dysfunctional and is s...\n",
       "1   2      0  @user @user thanks for #lyft credit i can't us...\n",
       "2   3      0                                bihday your majesty\n",
       "3   4      0  #model   i love u take with u all the time in ...\n",
       "4   5      0             factsguide: society now    #motivation"
      ]
     },
     "execution_count": 4,
     "metadata": {},
     "output_type": "execute_result"
    }
   ],
   "source": [
    "train.head()"
   ]
  },
  {
   "cell_type": "code",
   "execution_count": 5,
   "id": "11a8bc4f",
   "metadata": {},
   "outputs": [
    {
     "data": {
      "text/html": [
       "<div>\n",
       "<style scoped>\n",
       "    .dataframe tbody tr th:only-of-type {\n",
       "        vertical-align: middle;\n",
       "    }\n",
       "\n",
       "    .dataframe tbody tr th {\n",
       "        vertical-align: top;\n",
       "    }\n",
       "\n",
       "    .dataframe thead th {\n",
       "        text-align: right;\n",
       "    }\n",
       "</style>\n",
       "<table border=\"1\" class=\"dataframe\">\n",
       "  <thead>\n",
       "    <tr style=\"text-align: right;\">\n",
       "      <th></th>\n",
       "      <th>id</th>\n",
       "      <th>tweet</th>\n",
       "    </tr>\n",
       "  </thead>\n",
       "  <tbody>\n",
       "    <tr>\n",
       "      <th>0</th>\n",
       "      <td>31963</td>\n",
       "      <td>#studiolife #aislife #requires #passion #dedic...</td>\n",
       "    </tr>\n",
       "    <tr>\n",
       "      <th>1</th>\n",
       "      <td>31964</td>\n",
       "      <td>@user #white #supremacists want everyone to s...</td>\n",
       "    </tr>\n",
       "    <tr>\n",
       "      <th>2</th>\n",
       "      <td>31965</td>\n",
       "      <td>safe ways to heal your #acne!!    #altwaystohe...</td>\n",
       "    </tr>\n",
       "    <tr>\n",
       "      <th>3</th>\n",
       "      <td>31966</td>\n",
       "      <td>is the hp and the cursed child book up for res...</td>\n",
       "    </tr>\n",
       "    <tr>\n",
       "      <th>4</th>\n",
       "      <td>31967</td>\n",
       "      <td>3rd #bihday to my amazing, hilarious #nephew...</td>\n",
       "    </tr>\n",
       "  </tbody>\n",
       "</table>\n",
       "</div>"
      ],
      "text/plain": [
       "      id                                              tweet\n",
       "0  31963  #studiolife #aislife #requires #passion #dedic...\n",
       "1  31964   @user #white #supremacists want everyone to s...\n",
       "2  31965  safe ways to heal your #acne!!    #altwaystohe...\n",
       "3  31966  is the hp and the cursed child book up for res...\n",
       "4  31967    3rd #bihday to my amazing, hilarious #nephew..."
      ]
     },
     "execution_count": 5,
     "metadata": {},
     "output_type": "execute_result"
    }
   ],
   "source": [
    "test.head()"
   ]
  },
  {
   "cell_type": "markdown",
   "id": "06a75c9f",
   "metadata": {},
   "source": [
    "### Number of Words"
   ]
  },
  {
   "cell_type": "code",
   "execution_count": 6,
   "id": "79a57f61",
   "metadata": {},
   "outputs": [],
   "source": [
    "def num_of_words(df):\n",
    "    df['word_count'] = df['tweet'].apply(lambda x : len(str(x).split(\" \")))\n",
    "    print(df[['tweet','word_count']].head())"
   ]
  },
  {
   "cell_type": "code",
   "execution_count": 7,
   "id": "97e1cc3b",
   "metadata": {},
   "outputs": [
    {
     "name": "stdout",
     "output_type": "stream",
     "text": [
      "                                               tweet  word_count\n",
      "0   @user when a father is dysfunctional and is s...          21\n",
      "1  @user @user thanks for #lyft credit i can't us...          22\n",
      "2                                bihday your majesty           5\n",
      "3  #model   i love u take with u all the time in ...          17\n",
      "4             factsguide: society now    #motivation           8\n"
     ]
    }
   ],
   "source": [
    "num_of_words(train)\n"
   ]
  },
  {
   "cell_type": "code",
   "execution_count": 8,
   "id": "68d84f86",
   "metadata": {},
   "outputs": [
    {
     "name": "stdout",
     "output_type": "stream",
     "text": [
      "                                               tweet  word_count\n",
      "0  #studiolife #aislife #requires #passion #dedic...          12\n",
      "1   @user #white #supremacists want everyone to s...          20\n",
      "2  safe ways to heal your #acne!!    #altwaystohe...          15\n",
      "3  is the hp and the cursed child book up for res...          24\n",
      "4    3rd #bihday to my amazing, hilarious #nephew...          18\n"
     ]
    }
   ],
   "source": [
    "num_of_words(test)\n"
   ]
  },
  {
   "cell_type": "markdown",
   "id": "04d173e2",
   "metadata": {},
   "source": [
    "### Number of Characters"
   ]
  },
  {
   "cell_type": "code",
   "execution_count": 24,
   "id": "4372d2b7",
   "metadata": {},
   "outputs": [],
   "source": [
    "def num_of_chars(df):\n",
    "    df['char_count'] = df['tweet'].str.len() ## this also includes spaces\n",
    "    print(df[['tweet','char_count']].head())"
   ]
  },
  {
   "cell_type": "code",
   "execution_count": 25,
   "id": "c7665df0",
   "metadata": {},
   "outputs": [
    {
     "name": "stdout",
     "output_type": "stream",
     "text": [
      "                                               tweet  char_count\n",
      "0  @user when a father is dysfunctional and is so...          97\n",
      "1  @user @user thanks for #lyft credit i can't us...         118\n",
      "2                                bihday your majesty          19\n",
      "3  #model i love u take with u all the time in ur...          82\n",
      "4                factsguide: society now #motivation          35\n"
     ]
    }
   ],
   "source": [
    "num_of_chars(train)"
   ]
  },
  {
   "cell_type": "code",
   "execution_count": 26,
   "id": "55be8e30",
   "metadata": {},
   "outputs": [
    {
     "name": "stdout",
     "output_type": "stream",
     "text": [
      "                                               tweet  char_count\n",
      "0  #studiolife #aislife #requires #passion #dedic...          87\n",
      "1  @user #white #supremacists want everyone to se...          97\n",
      "2  safe way to heal your #acne!! #altwaystoheal #...          64\n",
      "3  is the hp and the cursed child book up for res...         139\n",
      "4  3rd #bihday to my amazing, hilarious #nephew e...          89\n"
     ]
    }
   ],
   "source": [
    "num_of_chars(test)"
   ]
  },
  {
   "cell_type": "markdown",
   "id": "f92f1414",
   "metadata": {},
   "source": [
    "## Stemming"
   ]
  },
  {
   "cell_type": "code",
   "execution_count": 18,
   "id": "fe524d7d",
   "metadata": {},
   "outputs": [],
   "source": [
    "from nltk.stem import PorterStemmer\n",
    "st = PorterStemmer()"
   ]
  },
  {
   "cell_type": "code",
   "execution_count": 19,
   "id": "824a9fd6",
   "metadata": {},
   "outputs": [],
   "source": [
    "def stemming(df):\n",
    "    return df['tweet'][:5].apply(lambda x: \" \".join([st.stem(word) for word in x.split()]))"
   ]
  },
  {
   "cell_type": "code",
   "execution_count": 20,
   "id": "33d4e07c",
   "metadata": {},
   "outputs": [
    {
     "data": {
      "text/plain": [
       "0    @user when a father is dysfunct and is so self...\n",
       "1    @user @user thank for #lyft credit i can't use...\n",
       "2                                  bihday your majesti\n",
       "3    #model i love u take with u all the time in ur...\n",
       "4                       factsguide: societi now #motiv\n",
       "Name: tweet, dtype: object"
      ]
     },
     "execution_count": 20,
     "metadata": {},
     "output_type": "execute_result"
    }
   ],
   "source": [
    "stemming(train)"
   ]
  },
  {
   "cell_type": "code",
   "execution_count": 21,
   "id": "ad2bae84",
   "metadata": {},
   "outputs": [
    {
     "data": {
      "text/plain": [
       "0    #studiolif #aislif #requir #passion #dedic #wi...\n",
       "1    @user #white #supremacist want everyon to see ...\n",
       "2    safe way to heal your #acne!! #altwaystoh #hea...\n",
       "3    is the hp and the curs child book up for reser...\n",
       "4    3rd #bihday to my amazing, hilari #nephew eli ...\n",
       "Name: tweet, dtype: object"
      ]
     },
     "execution_count": 21,
     "metadata": {},
     "output_type": "execute_result"
    }
   ],
   "source": [
    "stemming(test)"
   ]
  },
  {
   "cell_type": "markdown",
   "id": "0fa5fced",
   "metadata": {},
   "source": [
    "## Lemmatization"
   ]
  },
  {
   "cell_type": "code",
   "execution_count": 12,
   "id": "7f9097a7",
   "metadata": {},
   "outputs": [],
   "source": [
    "from textblob import Word"
   ]
  },
  {
   "cell_type": "code",
   "execution_count": 13,
   "id": "d4a8b061",
   "metadata": {},
   "outputs": [],
   "source": [
    "def lemmatization(df):\n",
    "    df['tweet'] = df['tweet'].apply(lambda x: \" \".join([Word(word).lemmatize() for word in x.split()]))\n",
    "    print(df['tweet'].head())"
   ]
  },
  {
   "cell_type": "code",
   "execution_count": 16,
   "id": "fedf669e",
   "metadata": {},
   "outputs": [
    {
     "name": "stdout",
     "output_type": "stream",
     "text": [
      "0    @user when a father is dysfunctional and is so...\n",
      "1    @user @user thanks for #lyft credit i can't us...\n",
      "2                                  bihday your majesty\n",
      "3    #model i love u take with u all the time in ur...\n",
      "4                  factsguide: society now #motivation\n",
      "Name: tweet, dtype: object\n"
     ]
    }
   ],
   "source": [
    "lemmatization(train)"
   ]
  },
  {
   "cell_type": "code",
   "execution_count": 17,
   "id": "e6d825e2",
   "metadata": {},
   "outputs": [
    {
     "name": "stdout",
     "output_type": "stream",
     "text": [
      "0    #studiolife #aislife #requires #passion #dedic...\n",
      "1    @user #white #supremacists want everyone to se...\n",
      "2    safe way to heal your #acne!! #altwaystoheal #...\n",
      "3    is the hp and the cursed child book up for res...\n",
      "4    3rd #bihday to my amazing, hilarious #nephew e...\n",
      "Name: tweet, dtype: object\n"
     ]
    }
   ],
   "source": [
    "lemmatization(test)"
   ]
  },
  {
   "cell_type": "code",
   "execution_count": null,
   "id": "2cb3f934",
   "metadata": {},
   "outputs": [],
   "source": []
  }
 ],
 "metadata": {
  "kernelspec": {
   "display_name": "Python 3 (ipykernel)",
   "language": "python",
   "name": "python3"
  },
  "language_info": {
   "codemirror_mode": {
    "name": "ipython",
    "version": 3
   },
   "file_extension": ".py",
   "mimetype": "text/x-python",
   "name": "python",
   "nbconvert_exporter": "python",
   "pygments_lexer": "ipython3",
   "version": "3.9.12"
  }
 },
 "nbformat": 4,
 "nbformat_minor": 5
}
