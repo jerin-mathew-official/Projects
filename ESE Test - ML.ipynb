{
 "cells": [
  {
   "cell_type": "code",
   "execution_count": 1,
   "id": "f2e402d0",
   "metadata": {},
   "outputs": [],
   "source": [
    "import pandas as pd \n",
    "import numpy as np\n",
    "from sklearn.linear_model import LinearRegression\n",
    "from sklearn.utils import shuffle\n",
    "import warnings\n",
    "warnings.filterwarnings(\"ignore\")"
   ]
  },
  {
   "cell_type": "code",
   "execution_count": 2,
   "id": "42c5cc5a",
   "metadata": {},
   "outputs": [
    {
     "data": {
      "text/html": [
       "<div>\n",
       "<style scoped>\n",
       "    .dataframe tbody tr th:only-of-type {\n",
       "        vertical-align: middle;\n",
       "    }\n",
       "\n",
       "    .dataframe tbody tr th {\n",
       "        vertical-align: top;\n",
       "    }\n",
       "\n",
       "    .dataframe thead th {\n",
       "        text-align: right;\n",
       "    }\n",
       "</style>\n",
       "<table border=\"1\" class=\"dataframe\">\n",
       "  <thead>\n",
       "    <tr style=\"text-align: right;\">\n",
       "      <th></th>\n",
       "      <th>S.No</th>\n",
       "      <th>Reg.No</th>\n",
       "      <th>Attendance</th>\n",
       "      <th>Gender</th>\n",
       "      <th>Working</th>\n",
       "      <th>Hadoop Grade</th>\n",
       "      <th>Programming Interest</th>\n",
       "      <th>Weekly Average Study</th>\n",
       "      <th>Java Knowledge</th>\n",
       "      <th>Python Marks</th>\n",
       "    </tr>\n",
       "  </thead>\n",
       "  <tbody>\n",
       "    <tr>\n",
       "      <th>0</th>\n",
       "      <td>1</td>\n",
       "      <td>2047301</td>\n",
       "      <td>0</td>\n",
       "      <td>Male</td>\n",
       "      <td>Y</td>\n",
       "      <td>D</td>\n",
       "      <td>N</td>\n",
       "      <td>5</td>\n",
       "      <td>Average</td>\n",
       "      <td>59</td>\n",
       "    </tr>\n",
       "    <tr>\n",
       "      <th>1</th>\n",
       "      <td>2</td>\n",
       "      <td>2047302</td>\n",
       "      <td>0</td>\n",
       "      <td>Female</td>\n",
       "      <td>Y</td>\n",
       "      <td>D</td>\n",
       "      <td>N</td>\n",
       "      <td>4</td>\n",
       "      <td>Poor</td>\n",
       "      <td>40</td>\n",
       "    </tr>\n",
       "    <tr>\n",
       "      <th>2</th>\n",
       "      <td>3</td>\n",
       "      <td>2047303</td>\n",
       "      <td>0</td>\n",
       "      <td>Female</td>\n",
       "      <td>Y</td>\n",
       "      <td>D</td>\n",
       "      <td>N</td>\n",
       "      <td>4</td>\n",
       "      <td>Poor</td>\n",
       "      <td>58</td>\n",
       "    </tr>\n",
       "    <tr>\n",
       "      <th>3</th>\n",
       "      <td>4</td>\n",
       "      <td>2047304</td>\n",
       "      <td>1</td>\n",
       "      <td>Female</td>\n",
       "      <td>Y</td>\n",
       "      <td>C</td>\n",
       "      <td>Y</td>\n",
       "      <td>12</td>\n",
       "      <td>Poor</td>\n",
       "      <td>55</td>\n",
       "    </tr>\n",
       "    <tr>\n",
       "      <th>4</th>\n",
       "      <td>5</td>\n",
       "      <td>2047305</td>\n",
       "      <td>0</td>\n",
       "      <td>Male</td>\n",
       "      <td>N</td>\n",
       "      <td>C</td>\n",
       "      <td>Y</td>\n",
       "      <td>7</td>\n",
       "      <td>Average</td>\n",
       "      <td>69</td>\n",
       "    </tr>\n",
       "  </tbody>\n",
       "</table>\n",
       "</div>"
      ],
      "text/plain": [
       "   S.No   Reg.No  Attendance  Gender Working Hadoop Grade  \\\n",
       "0     1  2047301           0    Male       Y            D   \n",
       "1     2  2047302           0  Female       Y            D   \n",
       "2     3  2047303           0  Female       Y            D   \n",
       "3     4  2047304           1  Female       Y            C   \n",
       "4     5  2047305           0    Male       N            C   \n",
       "\n",
       "  Programming Interest  Weekly Average Study   Java Knowledge  Python Marks  \n",
       "0                    N                       5        Average            59  \n",
       "1                    N                       4           Poor            40  \n",
       "2                    N                       4           Poor            58  \n",
       "3                    Y                      12           Poor            55  \n",
       "4                    Y                       7        Average            69  "
      ]
     },
     "execution_count": 2,
     "metadata": {},
     "output_type": "execute_result"
    }
   ],
   "source": [
    "data = pd.read_excel(\"C:/ClassesMSC/DataSets/DatasetQP.xlsx\")\n",
    "data.head()"
   ]
  },
  {
   "cell_type": "code",
   "execution_count": 3,
   "id": "d1563a24",
   "metadata": {},
   "outputs": [
    {
     "data": {
      "text/html": [
       "<div>\n",
       "<style scoped>\n",
       "    .dataframe tbody tr th:only-of-type {\n",
       "        vertical-align: middle;\n",
       "    }\n",
       "\n",
       "    .dataframe tbody tr th {\n",
       "        vertical-align: top;\n",
       "    }\n",
       "\n",
       "    .dataframe thead th {\n",
       "        text-align: right;\n",
       "    }\n",
       "</style>\n",
       "<table border=\"1\" class=\"dataframe\">\n",
       "  <thead>\n",
       "    <tr style=\"text-align: right;\">\n",
       "      <th></th>\n",
       "      <th>count</th>\n",
       "      <th>mean</th>\n",
       "      <th>std</th>\n",
       "      <th>min</th>\n",
       "      <th>25%</th>\n",
       "      <th>50%</th>\n",
       "      <th>75%</th>\n",
       "      <th>max</th>\n",
       "    </tr>\n",
       "  </thead>\n",
       "  <tbody>\n",
       "    <tr>\n",
       "      <th>S.No</th>\n",
       "      <td>32.0</td>\n",
       "      <td>1.650000e+01</td>\n",
       "      <td>9.380832</td>\n",
       "      <td>1.0</td>\n",
       "      <td>8.75</td>\n",
       "      <td>16.5</td>\n",
       "      <td>24.25</td>\n",
       "      <td>32.0</td>\n",
       "    </tr>\n",
       "    <tr>\n",
       "      <th>Reg.No</th>\n",
       "      <td>32.0</td>\n",
       "      <td>2.047316e+06</td>\n",
       "      <td>9.380832</td>\n",
       "      <td>2047301.0</td>\n",
       "      <td>2047308.75</td>\n",
       "      <td>2047316.5</td>\n",
       "      <td>2047324.25</td>\n",
       "      <td>2047332.0</td>\n",
       "    </tr>\n",
       "    <tr>\n",
       "      <th>Attendance</th>\n",
       "      <td>32.0</td>\n",
       "      <td>3.062500e+00</td>\n",
       "      <td>1.740180</td>\n",
       "      <td>0.0</td>\n",
       "      <td>2.00</td>\n",
       "      <td>4.0</td>\n",
       "      <td>4.00</td>\n",
       "      <td>5.0</td>\n",
       "    </tr>\n",
       "    <tr>\n",
       "      <th>Weekly Average Study</th>\n",
       "      <td>32.0</td>\n",
       "      <td>1.025000e+01</td>\n",
       "      <td>3.464102</td>\n",
       "      <td>4.0</td>\n",
       "      <td>8.00</td>\n",
       "      <td>10.0</td>\n",
       "      <td>12.00</td>\n",
       "      <td>17.0</td>\n",
       "    </tr>\n",
       "    <tr>\n",
       "      <th>Python Marks</th>\n",
       "      <td>32.0</td>\n",
       "      <td>6.971875e+01</td>\n",
       "      <td>8.463334</td>\n",
       "      <td>40.0</td>\n",
       "      <td>68.75</td>\n",
       "      <td>70.0</td>\n",
       "      <td>75.25</td>\n",
       "      <td>82.0</td>\n",
       "    </tr>\n",
       "  </tbody>\n",
       "</table>\n",
       "</div>"
      ],
      "text/plain": [
       "                        count          mean       std        min         25%  \\\n",
       "S.No                     32.0  1.650000e+01  9.380832        1.0        8.75   \n",
       "Reg.No                   32.0  2.047316e+06  9.380832  2047301.0  2047308.75   \n",
       "Attendance               32.0  3.062500e+00  1.740180        0.0        2.00   \n",
       "Weekly Average Study     32.0  1.025000e+01  3.464102        4.0        8.00   \n",
       "Python Marks             32.0  6.971875e+01  8.463334       40.0       68.75   \n",
       "\n",
       "                              50%         75%        max  \n",
       "S.No                         16.5       24.25       32.0  \n",
       "Reg.No                  2047316.5  2047324.25  2047332.0  \n",
       "Attendance                    4.0        4.00        5.0  \n",
       "Weekly Average Study         10.0       12.00       17.0  \n",
       "Python Marks                 70.0       75.25       82.0  "
      ]
     },
     "execution_count": 3,
     "metadata": {},
     "output_type": "execute_result"
    }
   ],
   "source": [
    "data.describe().T"
   ]
  },
  {
   "cell_type": "code",
   "execution_count": 4,
   "id": "5c981d54",
   "metadata": {},
   "outputs": [
    {
     "name": "stdout",
     "output_type": "stream",
     "text": [
      "<class 'pandas.core.frame.DataFrame'>\n",
      "RangeIndex: 32 entries, 0 to 31\n",
      "Data columns (total 10 columns):\n",
      " #   Column                  Non-Null Count  Dtype \n",
      "---  ------                  --------------  ----- \n",
      " 0   S.No                    32 non-null     int64 \n",
      " 1   Reg.No                  32 non-null     int64 \n",
      " 2   Attendance              32 non-null     int64 \n",
      " 3   Gender                  32 non-null     object\n",
      " 4   Working                 32 non-null     object\n",
      " 5   Hadoop Grade            31 non-null     object\n",
      " 6   Programming Interest    32 non-null     object\n",
      " 7   Weekly Average Study    32 non-null     int64 \n",
      " 8   Java Knowledge          31 non-null     object\n",
      " 9   Python Marks            32 non-null     int64 \n",
      "dtypes: int64(5), object(5)\n",
      "memory usage: 2.6+ KB\n"
     ]
    }
   ],
   "source": [
    "data.info()"
   ]
  },
  {
   "cell_type": "code",
   "execution_count": 5,
   "id": "b730dee1",
   "metadata": {},
   "outputs": [
    {
     "data": {
      "text/plain": [
       "S.No                      0\n",
       "Reg.No                    0\n",
       "Attendance                0\n",
       "Gender                    0\n",
       "Working                   0\n",
       "Hadoop Grade              1\n",
       "Programming Interest      0\n",
       "Weekly Average Study      0\n",
       "Java Knowledge            1\n",
       "Python Marks              0\n",
       "dtype: int64"
      ]
     },
     "execution_count": 5,
     "metadata": {},
     "output_type": "execute_result"
    }
   ],
   "source": [
    "data.isnull().sum()"
   ]
  },
  {
   "cell_type": "code",
   "execution_count": 6,
   "id": "f05d408c",
   "metadata": {},
   "outputs": [
    {
     "data": {
      "text/plain": [
       "S.No                      0\n",
       "Reg.No                    0\n",
       "Attendance                0\n",
       "Gender                    0\n",
       "Working                   0\n",
       "Hadoop Grade              0\n",
       "Programming Interest      0\n",
       "Weekly Average Study      0\n",
       "Java Knowledge            0\n",
       "Python Marks              0\n",
       "dtype: int64"
      ]
     },
     "execution_count": 6,
     "metadata": {},
     "output_type": "execute_result"
    }
   ],
   "source": [
    "data = data.dropna(axis = 0)\n",
    "data.isnull().sum()"
   ]
  },
  {
   "cell_type": "code",
   "execution_count": 7,
   "id": "a3cb6105",
   "metadata": {},
   "outputs": [
    {
     "data": {
      "text/plain": [
       "(30, 10)"
      ]
     },
     "execution_count": 7,
     "metadata": {},
     "output_type": "execute_result"
    }
   ],
   "source": [
    "data.shape"
   ]
  },
  {
   "cell_type": "code",
   "execution_count": 8,
   "id": "7d66ffd2",
   "metadata": {},
   "outputs": [
    {
     "data": {
      "text/html": [
       "<div>\n",
       "<style scoped>\n",
       "    .dataframe tbody tr th:only-of-type {\n",
       "        vertical-align: middle;\n",
       "    }\n",
       "\n",
       "    .dataframe tbody tr th {\n",
       "        vertical-align: top;\n",
       "    }\n",
       "\n",
       "    .dataframe thead th {\n",
       "        text-align: right;\n",
       "    }\n",
       "</style>\n",
       "<table border=\"1\" class=\"dataframe\">\n",
       "  <thead>\n",
       "    <tr style=\"text-align: right;\">\n",
       "      <th></th>\n",
       "      <th>Attendance</th>\n",
       "      <th>Gender</th>\n",
       "      <th>Working</th>\n",
       "      <th>Hadoop Grade</th>\n",
       "      <th>Programming Interest</th>\n",
       "      <th>Weekly Average Study</th>\n",
       "      <th>Java Knowledge</th>\n",
       "      <th>Python Marks</th>\n",
       "    </tr>\n",
       "  </thead>\n",
       "  <tbody>\n",
       "    <tr>\n",
       "      <th>0</th>\n",
       "      <td>0</td>\n",
       "      <td>1</td>\n",
       "      <td>1</td>\n",
       "      <td>D</td>\n",
       "      <td>0</td>\n",
       "      <td>5</td>\n",
       "      <td>0</td>\n",
       "      <td>59</td>\n",
       "    </tr>\n",
       "    <tr>\n",
       "      <th>1</th>\n",
       "      <td>0</td>\n",
       "      <td>0</td>\n",
       "      <td>1</td>\n",
       "      <td>D</td>\n",
       "      <td>0</td>\n",
       "      <td>4</td>\n",
       "      <td>3</td>\n",
       "      <td>40</td>\n",
       "    </tr>\n",
       "    <tr>\n",
       "      <th>2</th>\n",
       "      <td>0</td>\n",
       "      <td>0</td>\n",
       "      <td>1</td>\n",
       "      <td>D</td>\n",
       "      <td>0</td>\n",
       "      <td>4</td>\n",
       "      <td>3</td>\n",
       "      <td>58</td>\n",
       "    </tr>\n",
       "    <tr>\n",
       "      <th>3</th>\n",
       "      <td>1</td>\n",
       "      <td>0</td>\n",
       "      <td>1</td>\n",
       "      <td>C</td>\n",
       "      <td>1</td>\n",
       "      <td>12</td>\n",
       "      <td>3</td>\n",
       "      <td>55</td>\n",
       "    </tr>\n",
       "    <tr>\n",
       "      <th>4</th>\n",
       "      <td>0</td>\n",
       "      <td>1</td>\n",
       "      <td>0</td>\n",
       "      <td>C</td>\n",
       "      <td>1</td>\n",
       "      <td>7</td>\n",
       "      <td>0</td>\n",
       "      <td>69</td>\n",
       "    </tr>\n",
       "  </tbody>\n",
       "</table>\n",
       "</div>"
      ],
      "text/plain": [
       "   Attendance  Gender  Working Hadoop Grade  Programming Interest  \\\n",
       "0           0       1        1            D                     0   \n",
       "1           0       0        1            D                     0   \n",
       "2           0       0        1            D                     0   \n",
       "3           1       0        1            C                     1   \n",
       "4           0       1        0            C                     1   \n",
       "\n",
       "   Weekly Average Study    Java Knowledge  Python Marks  \n",
       "0                       5               0            59  \n",
       "1                       4               3            40  \n",
       "2                       4               3            58  \n",
       "3                      12               3            55  \n",
       "4                       7               0            69  "
      ]
     },
     "execution_count": 8,
     "metadata": {},
     "output_type": "execute_result"
    }
   ],
   "source": [
    "from sklearn.preprocessing import LabelEncoder\n",
    "\n",
    "LE = LabelEncoder()\n",
    "\n",
    "data['Gender'] = LE.fit_transform(data['Gender'])\n",
    "data['Working'] = LE.fit_transform(data['Working'])\n",
    "data['Programming Interest'] = LE.fit_transform(data['Programming Interest'])\n",
    "data['Java Knowledge'] = LE.fit_transform(data['Java Knowledge'])\n",
    "\n",
    "data=data.drop(['S.No','Reg.No'], axis=1)\n",
    "data.head()"
   ]
  },
  {
   "cell_type": "code",
   "execution_count": 9,
   "id": "fd357b7f",
   "metadata": {},
   "outputs": [],
   "source": [
    "X = data.drop('Hadoop Grade', axis=1)\n",
    "y = data['Hadoop Grade']"
   ]
  },
  {
   "cell_type": "code",
   "execution_count": 10,
   "id": "b521c35a",
   "metadata": {},
   "outputs": [],
   "source": [
    "from sklearn.model_selection import train_test_split\n",
    "\n",
    "X_train,X_test,y_train,y_test = train_test_split(X, y, test_size = 0.2, random_state = 42)"
   ]
  },
  {
   "cell_type": "code",
   "execution_count": 11,
   "id": "bcb5e058",
   "metadata": {},
   "outputs": [],
   "source": [
    "from sklearn.naive_bayes import MultinomialNB\n",
    "\n",
    "model = MultinomialNB().fit(X_train, y_train)"
   ]
  },
  {
   "cell_type": "code",
   "execution_count": 12,
   "id": "11f3debe",
   "metadata": {},
   "outputs": [
    {
     "name": "stdout",
     "output_type": "stream",
     "text": [
      "['B' 'B' 'B' 'B' 'C' 'C']\n"
     ]
    }
   ],
   "source": [
    "pred = model.predict(X_test)\n",
    "print(pred)"
   ]
  },
  {
   "cell_type": "code",
   "execution_count": 13,
   "id": "9b160a5a",
   "metadata": {},
   "outputs": [
    {
     "name": "stdout",
     "output_type": "stream",
     "text": [
      "ACCURACY OF THE MODEL:  0.6666666666666666\n"
     ]
    }
   ],
   "source": [
    "from sklearn.metrics import accuracy_score\n",
    "\n",
    "print('ACCURACY OF THE MODEL: ',accuracy_score(y_test, pred))"
   ]
  },
  {
   "cell_type": "code",
   "execution_count": 14,
   "id": "84cebd15",
   "metadata": {},
   "outputs": [
    {
     "name": "stdout",
     "output_type": "stream",
     "text": [
      "[[0 0 1 0]\n",
      " [0 0 1 0]\n",
      " [0 0 2 0]\n",
      " [0 0 0 2]]\n"
     ]
    }
   ],
   "source": [
    "from sklearn.metrics import confusion_matrix as cm\n",
    "\n",
    "matrix = cm(y_test,pred)\n",
    "print(matrix)"
   ]
  },
  {
   "cell_type": "code",
   "execution_count": 15,
   "id": "2572bd3e",
   "metadata": {},
   "outputs": [
    {
     "name": "stdout",
     "output_type": "stream",
     "text": [
      "              precision    recall  f1-score   support\n",
      "\n",
      "           A       1.00      0.00      0.00         1\n",
      "          A+       1.00      0.00      0.00         1\n",
      "           B       0.50      1.00      0.67         2\n",
      "           C       1.00      1.00      1.00         2\n",
      "\n",
      "    accuracy                           0.67         6\n",
      "   macro avg       0.88      0.50      0.42         6\n",
      "weighted avg       0.83      0.67      0.56         6\n",
      "\n"
     ]
    }
   ],
   "source": [
    "from sklearn.metrics import classification_report as cr\n",
    "\n",
    "report = cr(y_test,pred, zero_division = 1)\n",
    "print(report)"
   ]
  },
  {
   "cell_type": "code",
   "execution_count": 16,
   "id": "3f38db77",
   "metadata": {},
   "outputs": [
    {
     "data": {
      "image/png": "[encoded data removed]",
      "text/plain": [
       "<Figure size 432x288 with 1 Axes>"
      ]
     },
     "metadata": {
      "needs_background": "light"
     },
     "output_type": "display_data"
    }
   ],
   "source": [
    "import matplotlib.pyplot as plt\n",
    "import seaborn as sns\n",
    "\n",
    "\n",
    "sns.heatmap(matrix.T, square=True, annot=True, fmt='d' , cmap=\"YlGnBu\",  cbar=False)\n",
    "\n",
    "plt.title('Confusion Matrix - Hadoop Grade Prediction')\n",
    "plt.xlabel('TRUE')\n",
    "plt.ylabel('PREDICTED')\n",
    "plt.show()"
   ]
  },
  {
   "cell_type": "code",
   "execution_count": 17,
   "id": "b7e058e7",
   "metadata": {},
   "outputs": [
    {
     "data": {
      "text/html": [
       "<div>\n",
       "<style scoped>\n",
       "    .dataframe tbody tr th:only-of-type {\n",
       "        vertical-align: middle;\n",
       "    }\n",
       "\n",
       "    .dataframe tbody tr th {\n",
       "        vertical-align: top;\n",
       "    }\n",
       "\n",
       "    .dataframe thead th {\n",
       "        text-align: right;\n",
       "    }\n",
       "</style>\n",
       "<table border=\"1\" class=\"dataframe\">\n",
       "  <thead>\n",
       "    <tr style=\"text-align: right;\">\n",
       "      <th></th>\n",
       "      <th>Attendance</th>\n",
       "      <th>Gender</th>\n",
       "      <th>Working</th>\n",
       "      <th>Programming Interest</th>\n",
       "      <th>Weekly Average Study</th>\n",
       "      <th>Java Knowledge</th>\n",
       "      <th>Python Marks</th>\n",
       "    </tr>\n",
       "  </thead>\n",
       "  <tbody>\n",
       "    <tr>\n",
       "      <th>0</th>\n",
       "      <td>4</td>\n",
       "      <td>1</td>\n",
       "      <td>0</td>\n",
       "      <td>1</td>\n",
       "      <td>14</td>\n",
       "      <td>1</td>\n",
       "      <td>75</td>\n",
       "    </tr>\n",
       "  </tbody>\n",
       "</table>\n",
       "</div>"
      ],
      "text/plain": [
       "   Attendance  Gender  Working  Programming Interest  Weekly Average Study  \\\n",
       "0           4       1        0                     1                    14   \n",
       "\n",
       "   Java Knowledge  Python Marks  \n",
       "0               1            75  "
      ]
     },
     "execution_count": 17,
     "metadata": {},
     "output_type": "execute_result"
    }
   ],
   "source": [
    "new = [{'Attendance': 4, 'Gender': 1, 'Working': 0, 'Programming Interest': 1, \n",
    "        'Weekly Average Study': 14, 'Java Knowledge': 1, 'Python Marks': 75}]\n",
    "\n",
    "new = pd.DataFrame.from_dict(new)\n",
    "new"
   ]
  },
  {
   "cell_type": "code",
   "execution_count": 18,
   "id": "5ee08014",
   "metadata": {},
   "outputs": [
    {
     "name": "stdout",
     "output_type": "stream",
     "text": [
      "Hadoop Grade of new student:  ['B']\n"
     ]
    }
   ],
   "source": [
    "print('Hadoop Grade of new student: ', model.predict(new))"
   ]
  },
  {
   "cell_type": "code",
   "execution_count": null,
   "id": "fe7cb71a",
   "metadata": {},
   "outputs": [],
   "source": []
  }
 ],
 "metadata": {
  "kernelspec": {
   "display_name": "Python 3 (ipykernel)",
   "language": "python",
   "name": "python3"
  },
  "language_info": {
   "codemirror_mode": {
    "name": "ipython",
    "version": 3
   },
   "file_extension": ".py",
   "mimetype": "text/x-python",
   "name": "python",
   "nbconvert_exporter": "python",
   "pygments_lexer": "ipython3",
   "version": "3.9.12"
  }
 },
 "nbformat": 4,
 "nbformat_minor": 5
}
