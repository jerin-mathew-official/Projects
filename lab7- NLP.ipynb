{
 "cells": [
  {
   "cell_type": "markdown",
   "id": "70ced524",
   "metadata": {},
   "source": [
    "# Lab Program 7\n",
    "\n",
    "# NLP - Next Word Predictor \n",
    "\n",
    "## Name: Jerin Mathew\n",
    "## Roll No: 2139455"
   ]
  },
  {
   "cell_type": "code",
   "execution_count": 1,
   "id": "fc3a67b5",
   "metadata": {},
   "outputs": [],
   "source": [
    "import numpy as np\n",
    "import pandas as pd\n",
    "import nltk"
   ]
  },
  {
   "cell_type": "code",
   "execution_count": 2,
   "id": "336375f6",
   "metadata": {},
   "outputs": [],
   "source": [
    "data=(r\"C:/ClassesMSC/DataSets/words.txt\")"
   ]
  },
  {
   "cell_type": "code",
   "execution_count": 3,
   "id": "83b9aa76",
   "metadata": {
    "scrolled": true
   },
   "outputs": [
    {
     "data": {
      "text/plain": [
       "'C:/ClassesMSC/DataSets/words.txt'"
      ]
     },
     "execution_count": 3,
     "metadata": {},
     "output_type": "execute_result"
    }
   ],
   "source": [
    "data"
   ]
  },
  {
   "cell_type": "code",
   "execution_count": 27,
   "id": "aebc3aea",
   "metadata": {},
   "outputs": [],
   "source": [
    "lexicon = {}\n",
    "\n",
    "def update_lexicon(current : str, next_word : str) -> None:\n",
    "    # Add the input word to the lexicon if it in there yet.\n",
    "    if current not in lexicon:\n",
    "        lexicon.update({current: {next_word: 1} })\n",
    "        return\n",
    "\n",
    "    # Recieve te probabilties of the input word.\n",
    "    options = lexicon[current]\n",
    "\n",
    "    # Check if the output word is in the propability list.\n",
    "    if next_word not in options:\n",
    "        options.update({next_word : 1})\n",
    "    else:\n",
    "        options.update({next_word : options[next_word] + 1})\n",
    "\n",
    "    # Update the lexicon\n",
    "    lexicon[current] = options"
   ]
  },
  {
   "cell_type": "code",
   "execution_count": 32,
   "id": "721fcd9a",
   "metadata": {},
   "outputs": [],
   "source": [
    "# Populate lexicon\n",
    "with open(data, 'r') as dataset:\n",
    "    for line in dataset:\n",
    "        words = line.strip().split(' ')\n",
    "        for i in range(len(words) - 1):\n",
    "            update_lexicon(words[i], words[i+1])"
   ]
  },
  {
   "cell_type": "code",
   "execution_count": 23,
   "id": "cd859d42",
   "metadata": {},
   "outputs": [],
   "source": [
    "# Adjust propability\n",
    "for word, transition in lexicon.items():\n",
    "    transition = dict((key, value / sum(transition.values())) for key, value in transition.items())\n",
    "    lexicon[word] = transition"
   ]
  },
  {
   "cell_type": "code",
   "execution_count": 34,
   "id": "e0d3668d",
   "metadata": {},
   "outputs": [
    {
     "name": "stdout",
     "output_type": "stream",
     "text": [
      "> The domesticated\n",
      "The domesticated cat\n"
     ]
    }
   ],
   "source": [
    "# Predict next word\n",
    "line = input('> ')\n",
    "word = line.strip().split(' ')[-1]\n",
    "if word not in lexicon:\n",
    "    print('Word not found')\n",
    "else:\n",
    "    options = lexicon[word]\n",
    "    predicted = np.random.choice(list(options.keys()), p=list(options.values()))\n",
    "    print(line + ' ' + predicted)\n"
   ]
  },
  {
   "cell_type": "code",
   "execution_count": 39,
   "id": "453248da",
   "metadata": {},
   "outputs": [
    {
     "name": "stdout",
     "output_type": "stream",
     "text": [
      "> A common\n",
      "A common interactive\n"
     ]
    }
   ],
   "source": [
    "line = input('> ')\n",
    "word = line.strip().split(' ')[-1]\n",
    "if word not in lexicon:\n",
    "    print('Word not found')\n",
    "else:\n",
    "    options = lexicon[word]\n",
    "    predicted = np.random.choice(list(options.keys()), p=list(options.values()))\n",
    "    print(line + ' ' + predicted)"
   ]
  },
  {
   "cell_type": "code",
   "execution_count": null,
   "id": "ceeb18b3",
   "metadata": {},
   "outputs": [],
   "source": []
  }
 ],
 "metadata": {
  "kernelspec": {
   "display_name": "Python 3 (ipykernel)",
   "language": "python",
   "name": "python3"
  },
  "language_info": {
   "codemirror_mode": {
    "name": "ipython",
    "version": 3
   },
   "file_extension": ".py",
   "mimetype": "text/x-python",
   "name": "python",
   "nbconvert_exporter": "python",
   "pygments_lexer": "ipython3",
   "version": "3.9.12"
  }
 },
 "nbformat": 4,
 "nbformat_minor": 5
}
